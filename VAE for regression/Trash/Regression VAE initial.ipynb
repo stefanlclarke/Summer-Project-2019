{
 "cells": [
  {
   "cell_type": "code",
   "execution_count": 56,
   "metadata": {},
   "outputs": [],
   "source": [
    "import numpy as np\n",
    "import torch\n",
    "from matplotlib import pyplot as plt\n",
    "import gpytorch\n",
    "import torch.nn.functional as F\n",
    "import torch.nn as nn\n",
    "from torch.autograd import Variable"
   ]
  },
  {
   "cell_type": "code",
   "execution_count": 57,
   "metadata": {},
   "outputs": [
    {
     "data": {
      "text/plain": [
       "<matplotlib.collections.PathCollection at 0x1c5bb426320>"
      ]
     },
     "execution_count": 57,
     "metadata": {},
     "output_type": "execute_result"
    },
    {
     "data": {
      "image/png": "[encoded data removed]",
      "text/plain": [
       "<Figure size 432x288 with 1 Axes>"
      ]
     },
     "metadata": {},
     "output_type": "display_data"
    }
   ],
   "source": [
    "#generates data\n",
    "\n",
    "num_datapoints = 5\n",
    "\n",
    "def f(x):\n",
    "    return np.sin(3*x)\n",
    "\n",
    "xs = np.array([np.random.uniform(0,1) for i in range(num_datapoints)])\n",
    "ys = f(xs)\n",
    "plt.scatter(xs, ys)"
   ]
  },
  {
   "cell_type": "code",
   "execution_count": 73,
   "metadata": {},
   "outputs": [],
   "source": [
    "class y_encoder(nn.Module):\n",
    "    def __init__(self, y_size, hidden_layer_size, encoded_size):\n",
    "        super(y_encoder, self).__init__()\n",
    "        self.fc1 = nn.Linear(y_size, hidden_layer_size)\n",
    "        self.fc2 = nn.Linear(hidden_layer_size, hidden_layer_size)\n",
    "        self.fc3_mu = nn.Linear(hidden_layer_size, encoded_size)\n",
    "        self.fc3_logvar = nn.Linear(hidden_layer_size, encoded_size**2)\n",
    "        self.relu = nn.LeakyReLU()\n",
    "        \n",
    "    def forward(self, y):\n",
    "        l1 = self.relu(self.fc1(y))\n",
    "        l2 = self.relu(self.fc2(l1))\n",
    "        mu = self.fc3_mu(l2)\n",
    "        sigma = self.fc3_logvar(l2).mul(1/2).exp()\n",
    "        return mu, sigma\n",
    "\n",
    "class x_encoder(nn.Module):\n",
    "    def __init__(self, x_size, hidden_layer_size, encoded_size):\n",
    "        super(x_encoder, self).__init__()\n",
    "        self.fc1 = nn.Linear(x_size, hidden_layer_size)\n",
    "        self.fc2 = nn.Linear(hidden_layer_size, hidden_layer_size)\n",
    "        self.fc3_mu = nn.Linear(hidden_layer_size, encoded_size)\n",
    "        self.fc3_logvar = nn.Linear(hidden_layer_size, encoded_size**2)\n",
    "        self.relu = nn.LeakyReLU()\n",
    "        \n",
    "    def forward(self, x):\n",
    "        l1 = self.relu(self.fc1(x))\n",
    "        l2 = self.relu(self.fc2(l1))\n",
    "        mu = self.fc3_mu(l2)\n",
    "        sigma = self.fc3_logvar(l2).mul(1/2).exp()\n",
    "        return mu, sigma\n",
    "    \n",
    "def z_dist(x_mu, x_sigma, y_mu, y_sigma, x_size, y_size, encoded_size):\n",
    "    x_mu = x_mu.reshape(x_size, encoded_size)\n",
    "    y_mu = y_mu.reshape(y_size, encoded_size)\n",
    "    mu = torch.cat([x_mu, y_mu])\n",
    "    sigma = torch.diag(x_sigma, y_sigma)\n",
    "    normal = torch.distributions.Normal(mu, sigma)\n",
    "    return normal\n",
    "    \n",
    "class decoder(nn.Module):\n",
    "    def __init__(self, encoded_size, y_size, hidden_layer_size):\n",
    "        super(decoder, self).__init__()\n",
    "        self.fc1 = nn.Linear(2*encoded_size, hidden_layer_size)\n",
    "        self.fc2 = nn.Linear(hidden_layer_size, hidden_layer_size)\n",
    "        self.fc3 = nn.Linear(hidden_layer_size, y_size)\n",
    "        self.relu = nn.LeakyReLU()\n",
    "        \n",
    "    def forward(self, z):\n",
    "        l1 = self.relu(self.fc1(z))\n",
    "        l2 = self.relu(self.fc2(l1))\n",
    "        mu = self.fc3(l2)\n",
    "        return mu\n",
    "    \n",
    "class ExactGPModel(gpytorch.models.ExactGP):\n",
    "    def __init__(self, train_x, train_y, likelihood):\n",
    "        super(ExactGPModel, self).__init__(train_x, train_y, likelihood)\n",
    "        self.mean_module = gpytorch.means.ConstantMean()\n",
    "        self.covar_module = gpytorch.kernels.ScaleKernel(gpytorch.kernels.RBFKernel())\n",
    "\n",
    "    def forward(self, x):\n",
    "        mean_x = self.mean_module(x)\n",
    "        covar_x = self.covar_module(x)\n",
    "        return gpytorch.distributions.MultivariateNormal(mean_x, covar_x)\n",
    "    \n",
    "def get_y(mu):\n",
    "    normal = torch.distributions(mu, torch.ones(mu.size))\n",
    "    return normal\n",
    "\n",
    "class RegressionVAE(nn.Module):\n",
    "    def __init__(self, x_size, y_size, hidden_layer_size, encoded_size, likelihood, xs, ys):\n",
    "        super(RegressionVAE, self).__init__()\n",
    "        self.x_enc = x_encoder(y_size, hidden_layer_size, encoded_size)\n",
    "        self.y_enc = y_encoder(x_size, hidden_layer_size, encoded_size)\n",
    "        self.dec = decoder(encoded_size, y_size, hidden_layer_size)\n",
    "        self.regressor = ExactGPModel(xs, ys, likelihood)\n",
    "        self.xs = xs\n",
    "        self.ys = ys\n",
    "        self.x_size = x_size\n",
    "        self.y_size = y_size\n",
    "        self.encoded_size = encoded_size\n",
    "        \n",
    "def train(vae, epochs):\n",
    "    for epoch in range(epochs):\n",
    "        error = 0\n",
    "        for i in range(len(vae.xs)):\n",
    "            optimizer.zero_grad()\n",
    "            x = Variable(torch.tensor([vae.xs[i]]).type('torch.FloatTensor'))\n",
    "            y = Variable(torch.tensor([vae.ys[i]]).type('torch.FloatTensor'))\n",
    "            xmu, xsigma = vae.x_enc(x)\n",
    "            ymu, ysigma = vae.y_enc(y)\n",
    "            normal = z_dist(xmu, xsigma, ymu, ysigma, vae.x_size, vae.y_size, vae.encoded_size)\n",
    "            zsample = normal.rsample()\n",
    "            mu = vae.dec(z)\n",
    "            y_new = get_y(mu)\n",
    "            loss = vae.lossf(y_new, ys[i])\n",
    "            error += loss\n",
    "            loss.backward()\n",
    "        if epoch % 100 == 0:\n",
    "            print('EPOCH {}, LOSS {}'.format(epoch, error))"
   ]
  },
  {
   "cell_type": "code",
   "execution_count": 74,
   "metadata": {},
   "outputs": [],
   "source": [
    "likelihood = gpytorch.likelihoods.GaussianLikelihood()\n",
    "model = RegressionVAE(1, 1, 10, 3, likelihood, torch.from_numpy(xs), torch.from_numpy(ys))\n",
    "optimizer = torch.optim.Adam(model.parameters())"
   ]
  },
  {
   "cell_type": "code",
   "execution_count": 75,
   "metadata": {},
   "outputs": [
    {
     "ename": "TypeError",
     "evalue": "diag(): argument 'diagonal' (position 2) must be int, not Tensor",
     "output_type": "error",
     "traceback": [
      "\u001b[1;31m---------------------------------------------------------------------------\u001b[0m",
      "\u001b[1;31mTypeError\u001b[0m                                 Traceback (most recent call last)",
      "\u001b[1;32m<ipython-input-75-6462cb62818d>\u001b[0m in \u001b[0;36m<module>\u001b[1;34m()\u001b[0m\n\u001b[1;32m----> 1\u001b[1;33m \u001b[0mtrain\u001b[0m\u001b[1;33m(\u001b[0m\u001b[0mmodel\u001b[0m\u001b[1;33m,\u001b[0m \u001b[1;36m1\u001b[0m\u001b[1;33m)\u001b[0m\u001b[1;33m\u001b[0m\u001b[0m\n\u001b[0m",
      "\u001b[1;32m<ipython-input-73-a6fce5a1f701>\u001b[0m in \u001b[0;36mtrain\u001b[1;34m(vae, epochs)\u001b[0m\n\u001b[0;32m     90\u001b[0m             \u001b[0mxmu\u001b[0m\u001b[1;33m,\u001b[0m \u001b[0mxsigma\u001b[0m \u001b[1;33m=\u001b[0m \u001b[0mvae\u001b[0m\u001b[1;33m.\u001b[0m\u001b[0mx_enc\u001b[0m\u001b[1;33m(\u001b[0m\u001b[0mx\u001b[0m\u001b[1;33m)\u001b[0m\u001b[1;33m\u001b[0m\u001b[0m\n\u001b[0;32m     91\u001b[0m             \u001b[0mymu\u001b[0m\u001b[1;33m,\u001b[0m \u001b[0mysigma\u001b[0m \u001b[1;33m=\u001b[0m \u001b[0mvae\u001b[0m\u001b[1;33m.\u001b[0m\u001b[0my_enc\u001b[0m\u001b[1;33m(\u001b[0m\u001b[0my\u001b[0m\u001b[1;33m)\u001b[0m\u001b[1;33m\u001b[0m\u001b[0m\n\u001b[1;32m---> 92\u001b[1;33m             \u001b[0mnormal\u001b[0m \u001b[1;33m=\u001b[0m \u001b[0mz_dist\u001b[0m\u001b[1;33m(\u001b[0m\u001b[0mxmu\u001b[0m\u001b[1;33m,\u001b[0m \u001b[0mxsigma\u001b[0m\u001b[1;33m,\u001b[0m \u001b[0mymu\u001b[0m\u001b[1;33m,\u001b[0m \u001b[0mysigma\u001b[0m\u001b[1;33m,\u001b[0m \u001b[0mvae\u001b[0m\u001b[1;33m.\u001b[0m\u001b[0mx_size\u001b[0m\u001b[1;33m,\u001b[0m \u001b[0mvae\u001b[0m\u001b[1;33m.\u001b[0m\u001b[0my_size\u001b[0m\u001b[1;33m,\u001b[0m \u001b[0mvae\u001b[0m\u001b[1;33m.\u001b[0m\u001b[0mencoded_size\u001b[0m\u001b[1;33m)\u001b[0m\u001b[1;33m\u001b[0m\u001b[0m\n\u001b[0m\u001b[0;32m     93\u001b[0m             \u001b[0mzsample\u001b[0m \u001b[1;33m=\u001b[0m \u001b[0mnormal\u001b[0m\u001b[1;33m.\u001b[0m\u001b[0mrsample\u001b[0m\u001b[1;33m(\u001b[0m\u001b[1;33m)\u001b[0m\u001b[1;33m\u001b[0m\u001b[0m\n\u001b[0;32m     94\u001b[0m             \u001b[0mmu\u001b[0m \u001b[1;33m=\u001b[0m \u001b[0mvae\u001b[0m\u001b[1;33m.\u001b[0m\u001b[0mdec\u001b[0m\u001b[1;33m(\u001b[0m\u001b[0mz\u001b[0m\u001b[1;33m)\u001b[0m\u001b[1;33m\u001b[0m\u001b[0m\n",
      "\u001b[1;32m<ipython-input-73-a6fce5a1f701>\u001b[0m in \u001b[0;36mz_dist\u001b[1;34m(x_mu, x_sigma, y_mu, y_sigma, x_size, y_size, encoded_size)\u001b[0m\n\u001b[0;32m     35\u001b[0m     \u001b[0my_mu\u001b[0m \u001b[1;33m=\u001b[0m \u001b[0my_mu\u001b[0m\u001b[1;33m.\u001b[0m\u001b[0mreshape\u001b[0m\u001b[1;33m(\u001b[0m\u001b[0my_size\u001b[0m\u001b[1;33m,\u001b[0m \u001b[0mencoded_size\u001b[0m\u001b[1;33m)\u001b[0m\u001b[1;33m\u001b[0m\u001b[0m\n\u001b[0;32m     36\u001b[0m     \u001b[0mmu\u001b[0m \u001b[1;33m=\u001b[0m \u001b[0mtorch\u001b[0m\u001b[1;33m.\u001b[0m\u001b[0mcat\u001b[0m\u001b[1;33m(\u001b[0m\u001b[1;33m[\u001b[0m\u001b[0mx_mu\u001b[0m\u001b[1;33m,\u001b[0m \u001b[0my_mu\u001b[0m\u001b[1;33m]\u001b[0m\u001b[1;33m)\u001b[0m\u001b[1;33m\u001b[0m\u001b[0m\n\u001b[1;32m---> 37\u001b[1;33m     \u001b[0msigma\u001b[0m \u001b[1;33m=\u001b[0m \u001b[0mtorch\u001b[0m\u001b[1;33m.\u001b[0m\u001b[0mdiag\u001b[0m\u001b[1;33m(\u001b[0m\u001b[0mx_sigma\u001b[0m\u001b[1;33m,\u001b[0m \u001b[0my_sigma\u001b[0m\u001b[1;33m)\u001b[0m\u001b[1;33m\u001b[0m\u001b[0m\n\u001b[0m\u001b[0;32m     38\u001b[0m     \u001b[0mnormal\u001b[0m \u001b[1;33m=\u001b[0m \u001b[0mtorch\u001b[0m\u001b[1;33m.\u001b[0m\u001b[0mdistributions\u001b[0m\u001b[1;33m.\u001b[0m\u001b[0mNormal\u001b[0m\u001b[1;33m(\u001b[0m\u001b[0mmu\u001b[0m\u001b[1;33m,\u001b[0m \u001b[0msigma\u001b[0m\u001b[1;33m)\u001b[0m\u001b[1;33m\u001b[0m\u001b[0m\n\u001b[0;32m     39\u001b[0m     \u001b[1;32mreturn\u001b[0m \u001b[0mnormal\u001b[0m\u001b[1;33m\u001b[0m\u001b[0m\n",
      "\u001b[1;31mTypeError\u001b[0m: diag(): argument 'diagonal' (position 2) must be int, not Tensor"
     ]
    }
   ],
   "source": [
    "train(model, 1)"
   ]
  },
  {
   "cell_type": "code",
   "execution_count": null,
   "metadata": {},
   "outputs": [],
   "source": []
  }
 ],
 "metadata": {
  "kernelspec": {
   "display_name": "Python 3",
   "language": "python",
   "name": "python3"
  },
  "language_info": {
   "codemirror_mode": {
    "name": "ipython",
    "version": 3
   },
   "file_extension": ".py",
   "mimetype": "text/x-python",
   "name": "python",
   "nbconvert_exporter": "python",
   "pygments_lexer": "ipython3",
   "version": "3.6.5"
  }
 },
 "nbformat": 4,
 "nbformat_minor": 2
}
