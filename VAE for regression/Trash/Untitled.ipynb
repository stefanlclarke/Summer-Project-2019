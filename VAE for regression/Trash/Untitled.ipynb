{
 "cells": [
  {
   "cell_type": "code",
   "execution_count": 2,
   "metadata": {},
   "outputs": [],
   "source": [
    "import numpy as np\n",
    "import torch\n",
    "from matplotlib import pyplot as plt\n",
    "import gpytorch\n",
    "import torch.nn.functional as F\n",
    "import torch.nn as nn\n",
    "from torch.autograd import Variable\n",
    "from torch.distributions.kl import kl_divergence"
   ]
  },
  {
   "cell_type": "code",
   "execution_count": 3,
   "metadata": {},
   "outputs": [
    {
     "ename": "SyntaxError",
     "evalue": "unexpected EOF while parsing (<ipython-input-3-aff1fb2f1468>, line 17)",
     "output_type": "error",
     "traceback": [
      "\u001b[1;36m  File \u001b[1;32m\"<ipython-input-3-aff1fb2f1468>\"\u001b[1;36m, line \u001b[1;32m17\u001b[0m\n\u001b[1;33m    \u001b[0m\n\u001b[1;37m    ^\u001b[0m\n\u001b[1;31mSyntaxError\u001b[0m\u001b[1;31m:\u001b[0m unexpected EOF while parsing\n"
     ]
    }
   ],
   "source": [
    "def montecarlo_expectation(normal, f, iterations):\n",
    "    mu = 0\n",
    "    for i in range(iterations):\n",
    "        mu += f(normal.rsample())\n",
    "    mu = mu/iterations\n",
    "    return mu\n",
    "\n",
    "def info_loss(x_real, y_real_dist, z_posterior, y_posterior_known, z_prior, y_posterior_unknown, alpha, ld):\n",
    "    \n",
    "    #x_real: torch tensor. Actual x value\n",
    "    #y_real: torch tensor. Actual y value\n",
    "    #z_posterior: torch normal. Distribution of z for x_real given training data\n",
    "    #y_posterior_known: torch normal. Distribution of y using the z value obtained by the encoder network\n",
    "    #z_prior: torch standard normal.\n",
    "    #y_posterior unknown: Distribution of y using the z value obtained by gaussian regression.\n",
    "    #alpha, ld: scalar parameters of the infoVAE.\n",
    "    \n",
    "    log_like = montecarlo_expectation(z_posterior, y_posterior.log_prob(y)"
   ]
  },
  {
   "cell_type": "code",
   "execution_count": null,
   "metadata": {},
   "outputs": [],
   "source": []
  }
 ],
 "metadata": {
  "kernelspec": {
   "display_name": "Python 3",
   "language": "python",
   "name": "python3"
  },
  "language_info": {
   "codemirror_mode": {
    "name": "ipython",
    "version": 3
   },
   "file_extension": ".py",
   "mimetype": "text/x-python",
   "name": "python",
   "nbconvert_exporter": "python",
   "pygments_lexer": "ipython3",
   "version": "3.6.5"
  }
 },
 "nbformat": 4,
 "nbformat_minor": 2
}
