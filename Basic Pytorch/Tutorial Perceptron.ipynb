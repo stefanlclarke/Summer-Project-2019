{
 "cells": [
  {
   "cell_type": "code",
   "execution_count": 21,
   "metadata": {},
   "outputs": [],
   "source": [
    "import torch\n",
    "from torch.autograd import Variable\n",
    "import torch.nn as nn\n",
    "import torch.nn.functional as F\n",
    "import numpy as np\n",
    "from matplotlib import pyplot as plt\n",
    "\n",
    "class Net(nn.Module):\n",
    "    def __init__(self):\n",
    "        super(Net, self).__init__()\n",
    "        self.fc1 = nn.Linear(1,1)\n",
    "    def forward(self, x):\n",
    "        x = self.fc1(x)\n",
    "        return x"
   ]
  },
  {
   "cell_type": "code",
   "execution_count": 22,
   "metadata": {},
   "outputs": [
    {
     "name": "stdout",
     "output_type": "stream",
     "text": [
      "Net(\n",
      "  (fc1): Linear(in_features=1, out_features=1, bias=True)\n",
      ")\n"
     ]
    }
   ],
   "source": [
    "net = Net()\n",
    "print(net)"
   ]
  },
  {
   "cell_type": "code",
   "execution_count": 23,
   "metadata": {},
   "outputs": [
    {
     "name": "stdout",
     "output_type": "stream",
     "text": [
      "[Parameter containing:\n",
      "tensor([[-0.1234]], requires_grad=True), Parameter containing:\n",
      "tensor([-0.1526], requires_grad=True)]\n"
     ]
    }
   ],
   "source": [
    "print(list(net.parameters()))"
   ]
  },
  {
   "cell_type": "code",
   "execution_count": 24,
   "metadata": {},
   "outputs": [
    {
     "data": {
      "image/png": "[encoded data removed]",
      "text/plain": [
       "<Figure size 432x288 with 1 Axes>"
      ]
     },
     "metadata": {},
     "output_type": "display_data"
    }
   ],
   "source": [
    "data2 = list(np.random.uniform(0, 1, 100))\n",
    "for i in range(len(data2)):\n",
    "    point = data2[i]\n",
    "    dpoint = [point, 2*point]\n",
    "    data2[i] = dpoint\n",
    "\n",
    "data2 = np.array(data2)\n",
    "\n",
    "def plot_data():\n",
    "    xs_line = data2[:, 0]\n",
    "    ys_line = data2[:, 1]\n",
    "\n",
    "    plt.scatter(xs_line, ys_line)\n",
    "    \n",
    "plot_data()"
   ]
  },
  {
   "cell_type": "code",
   "execution_count": 25,
   "metadata": {},
   "outputs": [],
   "source": [
    "import torch.optim as optim\n",
    "def criterion(out, label):\n",
    "    return (label - out)**2\n",
    "optimizer = optim.SGD(net.parameters(), lr=0.01, momentum=0.5)"
   ]
  },
  {
   "cell_type": "code",
   "execution_count": 26,
   "metadata": {},
   "outputs": [
    {
     "name": "stdout",
     "output_type": "stream",
     "text": [
      "Epoch 0 - loss: 1.023322582244873\n",
      "Epoch 1 - loss: 0.011469608172774315\n",
      "Epoch 2 - loss: 0.00744981225579977\n",
      "Epoch 3 - loss: 0.004421910271048546\n",
      "Epoch 4 - loss: 0.0026234639808535576\n",
      "Epoch 5 - loss: 0.0015564569039270282\n",
      "Epoch 6 - loss: 0.0009234231547452509\n",
      "Epoch 7 - loss: 0.0005478561506606638\n",
      "Epoch 8 - loss: 0.0003250310255680233\n",
      "Epoch 9 - loss: 0.0001928351994138211\n",
      "Epoch 10 - loss: 0.00011440811067586765\n",
      "Epoch 11 - loss: 6.7874752858188e-05\n",
      "Epoch 12 - loss: 4.027004251838662e-05\n",
      "Epoch 13 - loss: 2.389194196439348e-05\n",
      "Epoch 14 - loss: 1.4174229363561608e-05\n",
      "Epoch 15 - loss: 8.40933444123948e-06\n",
      "Epoch 16 - loss: 4.989078206563136e-06\n",
      "Epoch 17 - loss: 2.960079200420296e-06\n",
      "Epoch 18 - loss: 1.7561287677381188e-06\n",
      "Epoch 19 - loss: 1.042010467244836e-06\n",
      "Epoch 20 - loss: 6.181809908412106e-07\n",
      "Epoch 21 - loss: 3.6665880998043576e-07\n",
      "Epoch 22 - loss: 2.1753487544629024e-07\n",
      "Epoch 23 - loss: 1.2909418956041918e-07\n",
      "Epoch 24 - loss: 7.655445699583652e-08\n",
      "Epoch 25 - loss: 4.5431306716636755e-08\n",
      "Epoch 26 - loss: 2.694561374028126e-08\n",
      "Epoch 27 - loss: 1.5997457580851915e-08\n",
      "Epoch 28 - loss: 9.48558920299547e-09\n",
      "Epoch 29 - loss: 5.631338950706777e-09\n",
      "Epoch 30 - loss: 3.335859588560197e-09\n",
      "Epoch 31 - loss: 1.971844909576248e-09\n",
      "Epoch 32 - loss: 1.1705338920364738e-09\n",
      "Epoch 33 - loss: 6.940723551451811e-10\n",
      "Epoch 34 - loss: 4.1311309928460105e-10\n",
      "Epoch 35 - loss: 2.420144085135689e-10\n",
      "Epoch 36 - loss: 1.4640377798968984e-10\n",
      "Epoch 37 - loss: 8.645884008728899e-11\n",
      "Epoch 38 - loss: 5.2015280971318134e-11\n",
      "Epoch 39 - loss: 3.206324095117452e-11\n",
      "Epoch 40 - loss: 1.8417267710901797e-11\n",
      "Epoch 41 - loss: 1.1141310096718371e-11\n",
      "Epoch 42 - loss: 6.568967592102126e-12\n",
      "Epoch 43 - loss: 3.8689051962137455e-12\n",
      "Epoch 44 - loss: 2.220446049250313e-12\n",
      "Epoch 45 - loss: 1.1510792319313623e-12\n",
      "Epoch 46 - loss: 7.993605777301127e-13\n",
      "Epoch 47 - loss: 4.298783551348606e-13\n",
      "Epoch 48 - loss: 3.552713678800501e-13\n",
      "Epoch 49 - loss: 2.2737367544323206e-13\n",
      "Epoch 50 - loss: 1.7408297026122455e-13\n",
      "Epoch 51 - loss: 1.2789769243681803e-13\n",
      "Epoch 52 - loss: 8.881784197001252e-14\n",
      "Epoch 53 - loss: 8.881784197001252e-14\n",
      "Epoch 54 - loss: 5.684341886080802e-14\n",
      "Epoch 55 - loss: 5.684341886080802e-14\n",
      "Epoch 56 - loss: 5.684341886080802e-14\n",
      "Epoch 57 - loss: 5.684341886080802e-14\n",
      "Epoch 58 - loss: 5.684341886080802e-14\n",
      "Epoch 59 - loss: 5.684341886080802e-14\n",
      "Epoch 60 - loss: 5.684341886080802e-14\n",
      "Epoch 61 - loss: 5.684341886080802e-14\n",
      "Epoch 62 - loss: 5.684341886080802e-14\n",
      "Epoch 63 - loss: 5.684341886080802e-14\n",
      "Epoch 64 - loss: 5.684341886080802e-14\n",
      "Epoch 65 - loss: 5.684341886080802e-14\n",
      "Epoch 66 - loss: 5.684341886080802e-14\n",
      "Epoch 67 - loss: 5.684341886080802e-14\n",
      "Epoch 68 - loss: 5.684341886080802e-14\n",
      "Epoch 69 - loss: 5.684341886080802e-14\n",
      "Epoch 70 - loss: 5.684341886080802e-14\n",
      "Epoch 71 - loss: 5.684341886080802e-14\n",
      "Epoch 72 - loss: 5.684341886080802e-14\n",
      "Epoch 73 - loss: 5.684341886080802e-14\n",
      "Epoch 74 - loss: 5.684341886080802e-14\n",
      "Epoch 75 - loss: 5.684341886080802e-14\n",
      "Epoch 76 - loss: 5.684341886080802e-14\n",
      "Epoch 77 - loss: 5.684341886080802e-14\n",
      "Epoch 78 - loss: 5.684341886080802e-14\n",
      "Epoch 79 - loss: 5.684341886080802e-14\n",
      "Epoch 80 - loss: 5.684341886080802e-14\n",
      "Epoch 81 - loss: 5.684341886080802e-14\n",
      "Epoch 82 - loss: 5.684341886080802e-14\n",
      "Epoch 83 - loss: 5.684341886080802e-14\n",
      "Epoch 84 - loss: 5.684341886080802e-14\n",
      "Epoch 85 - loss: 5.684341886080802e-14\n",
      "Epoch 86 - loss: 5.684341886080802e-14\n",
      "Epoch 87 - loss: 5.684341886080802e-14\n",
      "Epoch 88 - loss: 5.684341886080802e-14\n",
      "Epoch 89 - loss: 5.684341886080802e-14\n",
      "Epoch 90 - loss: 5.684341886080802e-14\n",
      "Epoch 91 - loss: 5.684341886080802e-14\n",
      "Epoch 92 - loss: 5.684341886080802e-14\n",
      "Epoch 93 - loss: 5.684341886080802e-14\n",
      "Epoch 94 - loss: 5.684341886080802e-14\n",
      "Epoch 95 - loss: 5.684341886080802e-14\n",
      "Epoch 96 - loss: 5.684341886080802e-14\n",
      "Epoch 97 - loss: 5.684341886080802e-14\n",
      "Epoch 98 - loss: 5.684341886080802e-14\n",
      "Epoch 99 - loss: 5.684341886080802e-14\n"
     ]
    }
   ],
   "source": [
    "for epoch in range(100):\n",
    "    for i, point in enumerate(data2):\n",
    "        X, Y = iter(point)\n",
    "        X, Y = Variable(torch.FloatTensor([X]), requires_grad=True), Variable(torch.FloatTensor([Y]), requires_grad=False)\n",
    "        optimizer.zero_grad()\n",
    "        outputs = net(X)\n",
    "        loss = criterion(outputs, Y)\n",
    "        loss.backward()\n",
    "        optimizer.step()\n",
    "        if (i % 100 == 0):\n",
    "            print(\"Epoch {} - loss: {}\".format(epoch, loss.data[0]))"
   ]
  },
  {
   "cell_type": "code",
   "execution_count": 27,
   "metadata": {},
   "outputs": [
    {
     "data": {
      "image/png": "[encoded data removed]",
      "text/plain": [
       "<Figure size 432x288 with 1 Axes>"
      ]
     },
     "metadata": {},
     "output_type": "display_data"
    }
   ],
   "source": [
    "points = []\n",
    "calculated = []\n",
    "for i in range(40):\n",
    "    points.append(i/40)\n",
    "    calculated.append(net(torch.FloatTensor([i/40])).detach().numpy())\n",
    "\n",
    "plt.scatter(points, calculated)\n",
    "\n",
    "plot_data()"
   ]
  },
  {
   "cell_type": "code",
   "execution_count": null,
   "metadata": {},
   "outputs": [],
   "source": []
  }
 ],
 "metadata": {
  "kernelspec": {
   "display_name": "Python 3",
   "language": "python",
   "name": "python3"
  },
  "language_info": {
   "codemirror_mode": {
    "name": "ipython",
    "version": 3
   },
   "file_extension": ".py",
   "mimetype": "text/x-python",
   "name": "python",
   "nbconvert_exporter": "python",
   "pygments_lexer": "ipython3",
   "version": "3.6.5"
  }
 },
 "nbformat": 4,
 "nbformat_minor": 2
}
