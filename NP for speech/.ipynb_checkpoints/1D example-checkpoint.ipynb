{
 "cells": [
  {
   "cell_type": "code",
   "execution_count": 98,
   "metadata": {},
   "outputs": [],
   "source": [
    "import numpy as np\n",
    "import torch\n",
    "import torch.nn as nn\n",
    "from training import train\n",
    "from NP import NP\n",
    "import matplotlib.pyplot as plt\n",
    "import torchaudio"
   ]
  },
  {
   "cell_type": "code",
   "execution_count": 99,
   "metadata": {},
   "outputs": [
    {
     "data": {
      "text/plain": [
       "[<matplotlib.lines.Line2D at 0x7ff0f38aec88>]"
      ]
     },
     "execution_count": 99,
     "metadata": {},
     "output_type": "execute_result"
    },
    {
     "data": {
      "image/png": "[encoded data removed]",
      "text/plain": [
       "<Figure size 432x288 with 1 Axes>"
      ]
     },
     "metadata": {
      "needs_background": "light"
     },
     "output_type": "display_data"
    }
   ],
   "source": [
    "wav = torchaudio.load('./speechsamples/kdt_001.wav')\n",
    "linspace = np.linspace(0,56.273,56273)\n",
    "plt.plot(linspace, wav[0].squeeze(0).numpy())"
   ]
  },
  {
   "cell_type": "code",
   "execution_count": 100,
   "metadata": {},
   "outputs": [],
   "source": [
    "def generate_data(samples, fun_size, increment):\n",
    "    sampledata = []\n",
    "    for sample, _ in samples:\n",
    "        sample_size = list(sample.size())[1]\n",
    "        linspace = torch.linspace(0, sample_size/1000, sample_size)\n",
    "        sample = sample.squeeze(0)\n",
    "        for i in range(sample_size//increment):\n",
    "            sampledata.append([linspace[0: fun_size].unsqueeze(0).transpose(0,1), sample[i*increment: i*increment+fun_size].unsqueeze(0).transpose(0,1)])\n",
    "        return sampledata"
   ]
  },
  {
   "cell_type": "code",
   "execution_count": 101,
   "metadata": {},
   "outputs": [
    {
     "data": {
      "text/plain": [
       "<matplotlib.collections.PathCollection at 0x7ff0f3a36e10>"
      ]
     },
     "execution_count": 101,
     "metadata": {},
     "output_type": "execute_result"
    },
    {
     "data": {
      "image/png": "[encoded data removed]",
      "text/plain": [
       "<Figure size 432x288 with 1 Axes>"
      ]
     },
     "metadata": {
      "needs_background": "light"
     },
     "output_type": "display_data"
    }
   ],
   "source": [
    "data = generate_data([wav], 400, 20)\n",
    "testpoints = data[1500]\n",
    "plt.scatter(testpoints[0], testpoints[1], c='black')"
   ]
  },
  {
   "cell_type": "code",
   "execution_count": 102,
   "metadata": {},
   "outputs": [],
   "source": [
    "model = NP(5, 1, 1)\n",
    "optimizer = torch.optim.Adam(model.parameters(), lr=3e-3)"
   ]
  },
  {
   "cell_type": "code",
   "execution_count": 103,
   "metadata": {},
   "outputs": [],
   "source": [
    "def sample_plot(np, context, linspace):\n",
    "    context_x = context[0]\n",
    "    context_y = context[1]\n",
    "    \n",
    "    mu, sigma, log_p, en_dist, t_en_dist, MSE  = np(context_x, context_y, linspace)\n",
    "    low = mu-sigma\n",
    "    high = mu+sigma\n",
    "    plt.plot(linspace.transpose(0,1).squeeze().numpy(), mu.transpose(0,1).squeeze().detach().numpy())\n",
    "    plt.fill_between(linspace.transpose(0,1).squeeze().numpy(), low.transpose(0,1).squeeze().detach().numpy(), high.transpose(0,1).squeeze().detach().numpy(), facecolor='#65c9f7', interpolate=True)\n",
    "    plt.scatter(context[0], context[1], c='black')\n",
    "    \n",
    "def variance_plot(np, context, linspace):\n",
    "    context_x = context[0]\n",
    "    context_y = context[1]\n",
    "    mu, sigma, log_p, en_dist, t_en_dist, MSE  = np(context_x, context_y, linspace)\n",
    "    plt.plot(linspace.transpose(0,1).squeeze().numpy(), sigma.transpose(0,1).squeeze().detach().numpy(),  c = 'r')"
   ]
  },
  {
   "cell_type": "code",
   "execution_count": 104,
   "metadata": {},
   "outputs": [
    {
     "name": "stdout",
     "output_type": "stream",
     "text": [
      "0\n",
      "Epoch 1 Progress: |██████████████████████████████████████████████████| 100.0% Complete.  Iteration = 1000. Average loss = 1.030015230178833.\n",
      "EPOCH LOSS 1.030015230178833\n",
      "Epoch 2 Progress: |██████████████████████████████████████████████████| 100.0% Complete.  Iteration = 1000. Average loss = 0.8669583797454834.\n",
      "EPOCH LOSS 0.8669583797454834\n",
      "Epoch 3 Progress: |██████████████████████████████████████████████████| 100.0% Complete.  Iteration = 1000. Average loss = 0.8320798873901367.\n",
      "EPOCH LOSS 0.8320798873901367\n",
      "Epoch 4 Progress: |██████████████████████████████████████████████████| 100.0% Complete.  Iteration = 1000. Average loss = 0.8095317482948303.\n",
      "EPOCH LOSS 0.8095317482948303\n",
      "Epoch 5 Progress: |██████████████████████████████████████████████████| 100.0% Complete.  Iteration = 1000. Average loss = 0.8334029316902161.\n",
      "EPOCH LOSS 0.8334029316902161\n",
      "Epoch 6 Progress: |██████████████████████████████████████████████████| 100.0% Complete.  Iteration = 1000. Average loss = 0.8048050403594971.\n",
      "EPOCH LOSS 0.8048050403594971\n",
      "Epoch 7 Progress: |██████████████████████████████████████████████████| 100.0% Complete.  Iteration = 1000. Average loss = 0.8014385104179382.\n",
      "EPOCH LOSS 0.8014385104179382\n",
      "Epoch 8 Progress: |██████████████████████████████████████████████████| 100.0% Complete.  Iteration = 1000. Average loss = 0.8067032694816589.\n",
      "EPOCH LOSS 0.8067032694816589\n",
      "Epoch 9 Progress: |██████████████████████████████████████████████████| 100.0% Complete.  Iteration = 1000. Average loss = 0.7901272773742676.\n",
      "EPOCH LOSS 0.7901272773742676\n",
      "Epoch 10 Progress: |██████████████████████████████████████████████████| 100.0% Complete.  Iteration = 1000. Average loss = 3.983876943588257.\n",
      "EPOCH LOSS 3.983876943588257\n",
      "Epoch 11 Progress: |██████████████████████████████████████████████████| 100.0% Complete.  Iteration = 1000. Average loss = 0.798331081867218.\n",
      "EPOCH LOSS 0.798331081867218\n",
      "Epoch 12 Progress: |██████████████████████████████████████████████████| 100.0% Complete.  Iteration = 1000. Average loss = 0.7836317420005798.\n",
      "EPOCH LOSS 0.7836317420005798\n",
      "Epoch 13 Progress: |██████████████████████████████████████████████████| 100.0% Complete.  Iteration = 1000. Average loss = 0.7782562971115112.\n",
      "EPOCH LOSS 0.7782562971115112\n",
      "Epoch 14 Progress: |██████████████████████████████████████████████████| 100.0% Complete.  Iteration = 1000. Average loss = 0.7757811546325684.\n",
      "EPOCH LOSS 0.7757811546325684\n",
      "Epoch 15 Progress: |██████████████████████████████████████████████████| 100.0% Complete.  Iteration = 1000. Average loss = 0.7685574293136597.\n",
      "EPOCH LOSS 0.7685574293136597\n",
      "Epoch 16 Progress: |██████████████████████████████████████████████████| 100.0% Complete.  Iteration = 1000. Average loss = 0.990717351436615.\n",
      "EPOCH LOSS 0.990717351436615\n",
      "Epoch 17 Progress: |██████████████████████████████████████████████████| 100.0% Complete.  Iteration = 1000. Average loss = 24.760011672973633.\n",
      "EPOCH LOSS 24.760011672973633\n",
      "Epoch 18 Progress: |██████████████████████████████████████████████████| 100.0% Complete.  Iteration = 1000. Average loss = 0.7936666011810303.\n",
      "EPOCH LOSS 0.7936666011810303\n",
      "Epoch 19 Progress: |██████████████████████████████████████████████████| 100.0% Complete.  Iteration = 1000. Average loss = 0.792229413986206.\n",
      "EPOCH LOSS 0.792229413986206\n",
      "Epoch 20 Progress: |██████████████████████████████████████████████████| 100.0% Complete.  Iteration = 1000. Average loss = 0.8146604895591736.\n",
      "EPOCH LOSS 0.8146604895591736\n",
      "Epoch 21 Progress: |██████████████████████████████████████████████████| 100.0% Complete.  Iteration = 1000. Average loss = 0.7929785251617432.\n",
      "EPOCH LOSS 0.7929785251617432\n",
      "Epoch 22 Progress: |██████████████████████████████████████████████████| 100.0% Complete.  Iteration = 1000. Average loss = 0.7736798524856567.\n",
      "EPOCH LOSS 0.7736798524856567\n",
      "Epoch 23 Progress: |██████████████████████████████████████████████████| 100.0% Complete.  Iteration = 1000. Average loss = 0.8052881956100464.\n",
      "EPOCH LOSS 0.8052881956100464\n",
      "Epoch 24 Progress: |██████████████████████████████████████████████████| 100.0% Complete.  Iteration = 1000. Average loss = 0.7905595302581787.\n",
      "EPOCH LOSS 0.7905595302581787\n",
      "Epoch 25 Progress: |██████████████████████████████████████████████████| 100.0% Complete.  Iteration = 1000. Average loss = 0.8185539841651917.\n",
      "EPOCH LOSS 0.8185539841651917\n",
      "Epoch 26 Progress: |██████████████████████████████████████████████████| 100.0% Complete.  Iteration = 1000. Average loss = 0.7934951186180115.\n",
      "EPOCH LOSS 0.7934951186180115\n",
      "Epoch 27 Progress: |██████████████████████████████████████████████████| 100.0% Complete.  Iteration = 1000. Average loss = 0.7663832902908325.\n",
      "EPOCH LOSS 0.7663832902908325\n",
      "Epoch 28 Progress: |██████████████████████████████████████████████████| 100.0% Complete.  Iteration = 1000. Average loss = 0.8341532945632935.\n",
      "EPOCH LOSS 0.8341532945632935\n",
      "Epoch 29 Progress: |██████████████████████████████████████████████████| 100.0% Complete.  Iteration = 1000. Average loss = 0.7407351136207581.\n",
      "EPOCH LOSS 0.7407351136207581\n",
      "Epoch 30 Progress: |██████████████████████████████████████████████████| 100.0% Complete.  Iteration = 1000. Average loss = 0.8502939939498901.\n",
      "EPOCH LOSS 0.8502939939498901\n",
      "Epoch 31 Progress: |██████████████████████████████████████████████████| 100.0% Complete.  Iteration = 1000. Average loss = 0.8705191612243652.\n",
      "EPOCH LOSS 0.8705191612243652\n",
      "Epoch 32 Progress: |██████████████████████████████████████████████████| 100.0% Complete.  Iteration = 1000. Average loss = 0.8599362969398499.\n",
      "EPOCH LOSS 0.8599362969398499\n",
      "Epoch 33 Progress: |██████████████████████████████████████████████████| 100.0% Complete.  Iteration = 1000. Average loss = 0.8159118890762329.\n",
      "EPOCH LOSS 0.8159118890762329\n",
      "Epoch 34 Progress: |██████████████████████████████████████████████████| 100.0% Complete.  Iteration = 1000. Average loss = 0.7989492416381836.\n",
      "EPOCH LOSS 0.7989492416381836\n",
      "Epoch 35 Progress: |██████████████████████████████████████████████████| 100.0% Complete.  Iteration = 1000. Average loss = 0.7975738644599915.\n",
      "EPOCH LOSS 0.7975738644599915\n",
      "Epoch 36 Progress: |██████████████████████████████████████████████████| 100.0% Complete.  Iteration = 1000. Average loss = 0.7941539883613586.\n",
      "EPOCH LOSS 0.7941539883613586\n",
      "Epoch 37 Progress: |██████████████████████████████████████████████████| 100.0% Complete.  Iteration = 1000. Average loss = 0.7980056405067444.\n",
      "EPOCH LOSS 0.7980056405067444\n",
      "Epoch 38 Progress: |██████████████████████████████████████████████████| 100.0% Complete.  Iteration = 1000. Average loss = 0.808158814907074.\n",
      "EPOCH LOSS 0.808158814907074\n",
      "Epoch 39 Progress: |██████████████████████████████████████████████████| 100.0% Complete.  Iteration = 1000. Average loss = 0.8512812852859497.\n",
      "EPOCH LOSS 0.8512812852859497\n",
      "Epoch 40 Progress: |██████████████████████████████████████████████████| 100.0% Complete.  Iteration = 1000. Average loss = 0.8698902130126953.\n",
      "EPOCH LOSS 0.8698902130126953\n",
      "Epoch 41 Progress: |██████████████████████████████████████████████████| 100.0% Complete.  Iteration = 1000. Average loss = 0.7995854616165161.\n",
      "EPOCH LOSS 0.7995854616165161\n",
      "Epoch 42 Progress: |██████████████████████████████████████████████████| 100.0% Complete.  Iteration = 1000. Average loss = 1.1646567583084106.\n",
      "EPOCH LOSS 1.1646567583084106\n",
      "Epoch 43 Progress: |██████████████████████████████████████████████████| 100.0% Complete.  Iteration = 1000. Average loss = 0.831504762172699.\n",
      "EPOCH LOSS 0.831504762172699\n",
      "Epoch 44 Progress: |██████████████████████████████████████████████████| 100.0% Complete.  Iteration = 1000. Average loss = 0.8052141070365906.\n",
      "EPOCH LOSS 0.8052141070365906\n",
      "Epoch 45 Progress: |██████████████████████████████████████████████████| 100.0% Complete.  Iteration = 1000. Average loss = 0.807831883430481.\n",
      "EPOCH LOSS 0.807831883430481\n",
      "Epoch 46 Progress: |██████████████████████████████████████████████████| 100.0% Complete.  Iteration = 1000. Average loss = 0.8003544807434082.\n",
      "EPOCH LOSS 0.8003544807434082\n",
      "Epoch 47 Progress: |██████████████████████████████████████████████████| 100.0% Complete.  Iteration = 1000. Average loss = 0.7948146462440491.\n",
      "EPOCH LOSS 0.7948146462440491\n",
      "Epoch 48 Progress: |██████████████████████████████████████████████████| 100.0% Complete.  Iteration = 1000. Average loss = 0.800392746925354.\n",
      "EPOCH LOSS 0.800392746925354\n",
      "Epoch 49 Progress: |██████████████████████████████████████████████████| 100.0% Complete.  Iteration = 1000. Average loss = 0.7955167889595032.\n",
      "EPOCH LOSS 0.7955167889595032\n",
      "Epoch 50 Progress: |██████████████████████████████████████████████████| 100.0% Complete.  Iteration = 1000. Average loss = 4222.0859375.5.6..\n",
      "EPOCH LOSS 4222.0859375\n",
      "Epoch 51 Progress: |██████████████████████████████████████████████████| 100.0% Complete.  Iteration = 1000. Average loss = 0.812997043132782.\n",
      "EPOCH LOSS 0.812997043132782\n",
      "Epoch 52 Progress: |██████████████████████████████████████████████████| 100.0% Complete.  Iteration = 1000. Average loss = 0.7885621786117554.\n",
      "EPOCH LOSS 0.7885621786117554\n",
      "Epoch 53 Progress: |██████████████████████████████████████████████████| 100.0% Complete.  Iteration = 1000. Average loss = 0.7924107313156128.\n",
      "EPOCH LOSS 0.7924107313156128\n",
      "Epoch 54 Progress: |██████████████████████████████████████████████████| 100.0% Complete.  Iteration = 1000. Average loss = 0.7947338223457336.\n",
      "EPOCH LOSS 0.7947338223457336\n",
      "Epoch 55 Progress: |██████████████████████████████████████████████████| 100.0% Complete.  Iteration = 1000. Average loss = 0.7857369780540466.\n",
      "EPOCH LOSS 0.7857369780540466\n",
      "Epoch 56 Progress: |██████████████████████████████████████████████████| 100.0% Complete.  Iteration = 1000. Average loss = 0.8635190725326538.\n",
      "EPOCH LOSS 0.8635190725326538\n",
      "Epoch 57 Progress: |██████████████████████████████████████████████████| 100.0% Complete.  Iteration = 1000. Average loss = 0.7958766222000122.\n",
      "EPOCH LOSS 0.7958766222000122\n",
      "Epoch 58 Progress: |██████████████████████████████████████████████████| 100.0% Complete.  Iteration = 1000. Average loss = 0.7885892391204834.\n",
      "EPOCH LOSS 0.7885892391204834\n",
      "Epoch 59 Progress: |██████████████████████████████████████████████████| 100.0% Complete.  Iteration = 1000. Average loss = 0.8117573857307434.\n",
      "EPOCH LOSS 0.8117573857307434\n",
      "Epoch 60 Progress: |██████████████████████████████████████████████████| 100.0% Complete.  Iteration = 1000. Average loss = 0.8006551861763...\n",
      "EPOCH LOSS 0.8006551861763\n",
      "Epoch 61 Progress: |██████████████████████████████████████████████████| 100.0% Complete.  Iteration = 1000. Average loss = 0.782462477684021.\n",
      "EPOCH LOSS 0.782462477684021\n",
      "Epoch 62 Progress: |██████████████████████████████████████████████████| 100.0% Complete.  Iteration = 1000. Average loss = 0.823861837387085.\n",
      "EPOCH LOSS 0.823861837387085\n",
      "Epoch 63 Progress: |██████████████████████████████████████████████████| 100.0% Complete.  Iteration = 1000. Average loss = 0.7942550778388977.\n",
      "EPOCH LOSS 0.7942550778388977\n",
      "Epoch 64 Progress: |██████████████████████████████████████████████████| 100.0% Complete.  Iteration = 1000. Average loss = 0.7905725836753845.\n",
      "EPOCH LOSS 0.7905725836753845\n",
      "Epoch 65 Progress: |██████████████████████████████████████████████████| 100.0% Complete.  Iteration = 1000. Average loss = 0.789514422416687.\n",
      "EPOCH LOSS 0.789514422416687\n",
      "Epoch 66 Progress: |██████████████████████████████████████████████████| 100.0% Complete.  Iteration = 1000. Average loss = 0.7869833111763...\n",
      "EPOCH LOSS 0.7869833111763\n",
      "Epoch 67 Progress: |██████████████████████████████████████████████████| 100.0% Complete.  Iteration = 1000. Average loss = 0.7851879000663757.\n",
      "EPOCH LOSS 0.7851879000663757\n",
      "Epoch 68 Progress: |██████████████████████████████████████████████████| 100.0% Complete.  Iteration = 1000. Average loss = 0.7798978090286255.\n",
      "EPOCH LOSS 0.7798978090286255\n",
      "Epoch 69 Progress: |██████████████████████████████████████████████████| 100.0% Complete.  Iteration = 1000. Average loss = 0.7913258671760559.\n",
      "EPOCH LOSS 0.7913258671760559\n",
      "Epoch 70 Progress: |██████████████████████████████████████████████████| 100.0% Complete.  Iteration = 1000. Average loss = 0.7915602922439575.\n",
      "EPOCH LOSS 0.7915602922439575\n",
      "Epoch 71 Progress: |██████████████████████████████████████████████████| 100.0% Complete.  Iteration = 1000. Average loss = 0.7864730954170227.\n",
      "EPOCH LOSS 0.7864730954170227\n",
      "Epoch 72 Progress: |██████████████████████████████████████████████████| 100.0% Complete.  Iteration = 1000. Average loss = 1.1643109321594238.\n",
      "EPOCH LOSS 1.1643109321594238\n",
      "Epoch 73 Progress: |██████████████████████████████████████████████████| 100.0% Complete.  Iteration = 1000. Average loss = 0.8018290996551514.\n",
      "EPOCH LOSS 0.8018290996551514\n",
      "Epoch 74 Progress: |██████████████████████████████████████████████████| 100.0% Complete.  Iteration = 1000. Average loss = 0.7935490608215332.\n",
      "EPOCH LOSS 0.7935490608215332\n",
      "Epoch 75 Progress: |██████████████████████████████████████████████████| 100.0% Complete.  Iteration = 1000. Average loss = 0.7913532853126526.\n",
      "EPOCH LOSS 0.7913532853126526\n",
      "Epoch 76 Progress: |██████████████████████████████████████████████████| 100.0% Complete.  Iteration = 1000. Average loss = 0.7847591042518616.\n",
      "EPOCH LOSS 0.7847591042518616\n",
      "Epoch 77 Progress: |██████████████████████████████████████████████████| 100.0% Complete.  Iteration = 1000. Average loss = 0.792709231376648.\n",
      "EPOCH LOSS 0.792709231376648\n",
      "Epoch 78 Progress: |██████████████████████████████████████████████████| 100.0% Complete.  Iteration = 1000. Average loss = 0.8035765886306763.\n",
      "EPOCH LOSS 0.8035765886306763\n",
      "Epoch 79 Progress: |██████████████████████████████████████████████████| 100.0% Complete.  Iteration = 1000. Average loss = 0.7909234166145325.\n",
      "EPOCH LOSS 0.7909234166145325\n",
      "Epoch 80 Progress: |██████████████████████████████████████████████████| 100.0% Complete.  Iteration = 1000. Average loss = 0.8827837109565735.\n",
      "EPOCH LOSS 0.8827837109565735\n",
      "Epoch 81 Progress: |██████████████████████████████████████████████████| 100.0% Complete.  Iteration = 1000. Average loss = 0.8491262793540955.\n",
      "EPOCH LOSS 0.8491262793540955\n",
      "Epoch 82 Progress: |██████████████████████████████████████████████████| 100.0% Complete.  Iteration = 1000. Average loss = 0.7932640314102173.\n",
      "EPOCH LOSS 0.7932640314102173\n",
      "Epoch 83 Progress: |██████████████████████████████████████████████████| 100.0% Complete.  Iteration = 1000. Average loss = 0.7712114453315735.\n",
      "EPOCH LOSS 0.7712114453315735\n",
      "Epoch 84 Progress: |██████████████████████████████████████████████████| 100.0% Complete.  Iteration = 1000. Average loss = 1.8117598295211792.\n",
      "EPOCH LOSS 1.8117598295211792\n",
      "Epoch 85 Progress: |██████████████████████████████████████████████████| 100.0% Complete.  Iteration = 1000. Average loss = 0.8131925463676453.\n",
      "EPOCH LOSS 0.8131925463676453\n",
      "Epoch 86 Progress: |██████████████████████████████████████████████████| 100.0% Complete.  Iteration = 1000. Average loss = 1.3329447507858276.\n",
      "EPOCH LOSS 1.3329447507858276\n",
      "Epoch 87 Progress: |██████████████████████████████████████████████████| 100.0% Complete.  Iteration = 1000. Average loss = 0.8183149695396423.\n",
      "EPOCH LOSS 0.8183149695396423\n",
      "Epoch 88 Progress: |██████████████████████████████████████████████████| 100.0% Complete.  Iteration = 1000. Average loss = 0.8145450949668884.\n",
      "EPOCH LOSS 0.8145450949668884\n",
      "Epoch 89 Progress: |██████████████████████████████████████████████████| 100.0% Complete.  Iteration = 1000. Average loss = 0.7976866364479065.\n",
      "EPOCH LOSS 0.7976866364479065\n",
      "Epoch 90 Progress: |██████████████████████████████████████████████████| 100.0% Complete.  Iteration = 1000. Average loss = 0.7836582064628601.\n",
      "EPOCH LOSS 0.7836582064628601\n",
      "Epoch 91 Progress: |██████████████████████████████████████████████████| 100.0% Complete.  Iteration = 1000. Average loss = 0.7945317625999451.\n",
      "EPOCH LOSS 0.7945317625999451\n",
      "Epoch 92 Progress: |██████████████████████████████████████████████████| 100.0% Complete.  Iteration = 1000. Average loss = 0.7776699662208557.\n",
      "EPOCH LOSS 0.7776699662208557\n",
      "Epoch 93 Progress: |██████████████████████████████████████████████████| 100.0% Complete.  Iteration = 1000. Average loss = 0.7289174199104309.\n",
      "EPOCH LOSS 0.7289174199104309\n",
      "Epoch 94 Progress: |██████████████████████████████████████████████████| 100.0% Complete.  Iteration = 1000. Average loss = 31.863780975341797.\n",
      "EPOCH LOSS 31.863780975341797\n",
      "Epoch 95 Progress: |██████████████████████████████████████████████████| 100.0% Complete.  Iteration = 1000. Average loss = 0.9070256948471069.\n",
      "EPOCH LOSS 0.9070256948471069\n",
      "Epoch 96 Progress: |██████████████████████████████████████████████████| 100.0% Complete.  Iteration = 1000. Average loss = 0.875373125076294.\n",
      "EPOCH LOSS 0.875373125076294\n",
      "Epoch 97 Progress: |██████████████████████████████████████████████████| 100.0% Complete.  Iteration = 1000. Average loss = 1.3041737079620361.\n",
      "EPOCH LOSS 1.3041737079620361\n",
      "Epoch 98 Progress: |██████████████████████████████████████████████████| 100.0% Complete.  Iteration = 1000. Average loss = 0.8395100831985474.\n",
      "EPOCH LOSS 0.8395100831985474\n",
      "Epoch 99 Progress: |██████████████████████████████████████████████████| 100.0% Complete.  Iteration = 1000. Average loss = 0.8321492075920105.\n",
      "EPOCH LOSS 0.8321492075920105\n",
      "Epoch 100 Progress: |██████████████████████████████████████████████████| 100.0% Complete.  Iteration = 1000. Average loss = 0.8077288269996643.\n",
      "EPOCH LOSS 0.8077288269996643\n"
     ]
    },
    {
     "data": {
      "image/png": "[encoded data removed]",
      "text/plain": [
       "<Figure size 432x288 with 1 Axes>"
      ]
     },
     "metadata": {
      "needs_background": "light"
     },
     "output_type": "display_data"
    },
    {
     "name": "stdout",
     "output_type": "stream",
     "text": [
      "100\n",
      "Epoch 1 Progress: |██████████████████████████████████████████████████| 100.0% Complete.  Iteration = 1000. Average loss = 0.7910155653953552.\n",
      "EPOCH LOSS 0.7910155653953552\n",
      "Epoch 2 Progress: |██████████████████████████████████████████████████| 100.0% Complete.  Iteration = 1000. Average loss = 0.8087071180343628.\n",
      "EPOCH LOSS 0.8087071180343628\n",
      "Epoch 3 Progress: |██████████████████████████████████████████████████| 100.0% Complete.  Iteration = 1000. Average loss = 0.689708948135376.\n",
      "EPOCH LOSS 0.689708948135376\n",
      "Epoch 4 Progress: |██████████████████████████████████████████████████| 100.0% Complete.  Iteration = 1000. Average loss = 0.6534081697463989.\n",
      "EPOCH LOSS 0.6534081697463989\n",
      "Epoch 5 Progress: |██████████████████████████████████████████████████| 100.0% Complete.  Iteration = 1000. Average loss = 0.6384657621383667.\n",
      "EPOCH LOSS 0.6384657621383667\n",
      "Epoch 6 Progress: |██████████████████████████████████████████████████| 100.0% Complete.  Iteration = 1000. Average loss = 0.6281060576438904.\n",
      "EPOCH LOSS 0.6281060576438904\n",
      "Epoch 7 Progress: |██████████████████████████████████████████████████| 100.0% Complete.  Iteration = 1000. Average loss = 0.6556282639503479.\n",
      "EPOCH LOSS 0.6556282639503479\n",
      "Epoch 8 Progress: |██████████████████████████████████████████████████| 100.0% Complete.  Iteration = 1000. Average loss = 0.7863316535949707.\n",
      "EPOCH LOSS 0.7863316535949707\n",
      "Epoch 9 Progress: |██████████████████████████████████████████████████| 100.0% Complete.  Iteration = 1000. Average loss = 0.8959975242614746.\n",
      "EPOCH LOSS 0.8959975242614746\n",
      "Epoch 10 Progress: |█████████████████---------------------------------| 34.5% Complete.  Iteration = 345. Average loss = 0.29935625195503235.\r"
     ]
    },
    {
     "ename": "KeyboardInterrupt",
     "evalue": "",
     "output_type": "error",
     "traceback": [
      "\u001b[0;31m---------------------------------------------------------------------------\u001b[0m",
      "\u001b[0;31mKeyboardInterrupt\u001b[0m                         Traceback (most recent call last)",
      "\u001b[0;32m<ipython-input-104-89d3be8218c3>\u001b[0m in \u001b[0;36m<module>\u001b[0;34m\u001b[0m\n\u001b[1;32m      3\u001b[0m \u001b[0;32mfor\u001b[0m \u001b[0mi\u001b[0m \u001b[0;32min\u001b[0m \u001b[0mrange\u001b[0m\u001b[0;34m(\u001b[0m\u001b[0;36m20\u001b[0m\u001b[0;34m)\u001b[0m\u001b[0;34m:\u001b[0m\u001b[0;34m\u001b[0m\u001b[0;34m\u001b[0m\u001b[0m\n\u001b[1;32m      4\u001b[0m     \u001b[0mprint\u001b[0m\u001b[0;34m(\u001b[0m\u001b[0;36m100\u001b[0m\u001b[0;34m*\u001b[0m\u001b[0mi\u001b[0m\u001b[0;34m)\u001b[0m\u001b[0;34m\u001b[0m\u001b[0;34m\u001b[0m\u001b[0m\n\u001b[0;32m----> 5\u001b[0;31m     \u001b[0mtrain\u001b[0m\u001b[0;34m(\u001b[0m\u001b[0mdatapoints\u001b[0m\u001b[0;34m,\u001b[0m \u001b[0mmodel\u001b[0m\u001b[0;34m,\u001b[0m \u001b[0;36m100\u001b[0m\u001b[0;34m,\u001b[0m \u001b[0;36m99\u001b[0m\u001b[0;34m,\u001b[0m \u001b[0malpha\u001b[0m\u001b[0;34m,\u001b[0m \u001b[0moptimizer\u001b[0m\u001b[0;34m)\u001b[0m\u001b[0;34m\u001b[0m\u001b[0;34m\u001b[0m\u001b[0m\n\u001b[0m\u001b[1;32m      6\u001b[0m     \u001b[0msample_plot\u001b[0m\u001b[0;34m(\u001b[0m\u001b[0mmodel\u001b[0m\u001b[0;34m,\u001b[0m \u001b[0mtestpoints\u001b[0m\u001b[0;34m,\u001b[0m \u001b[0mtestpoints\u001b[0m\u001b[0;34m[\u001b[0m\u001b[0;36m0\u001b[0m\u001b[0;34m]\u001b[0m\u001b[0;34m)\u001b[0m\u001b[0;34m\u001b[0m\u001b[0;34m\u001b[0m\u001b[0m\n\u001b[1;32m      7\u001b[0m     \u001b[0;31m#variance_plot(model, testpoints, testpoints[1])\u001b[0m\u001b[0;34m\u001b[0m\u001b[0;34m\u001b[0m\u001b[0;34m\u001b[0m\u001b[0m\n",
      "\u001b[0;32m~/Desktop/Repo/Summer-Project-2019/NP for speech/training.py\u001b[0m in \u001b[0;36mtrain\u001b[0;34m(data, cnp, epochs, num_test_maximum, alpha, optimizer)\u001b[0m\n\u001b[1;32m     34\u001b[0m         \u001b[0mprintProgressBar\u001b[0m\u001b[0;34m(\u001b[0m\u001b[0;36m0\u001b[0m\u001b[0;34m,\u001b[0m \u001b[0mlength\u001b[0m\u001b[0;34m,\u001b[0m \u001b[0mprefix\u001b[0m \u001b[0;34m=\u001b[0m \u001b[0;34m'Epoch {} Progress:'\u001b[0m\u001b[0;34m.\u001b[0m\u001b[0mformat\u001b[0m\u001b[0;34m(\u001b[0m\u001b[0mepoch\u001b[0m \u001b[0;34m+\u001b[0m \u001b[0;36m1\u001b[0m\u001b[0;34m)\u001b[0m\u001b[0;34m,\u001b[0m \u001b[0msuffix\u001b[0m \u001b[0;34m=\u001b[0m \u001b[0;34m'Complete'\u001b[0m\u001b[0;34m,\u001b[0m \u001b[0mlength\u001b[0m \u001b[0;34m=\u001b[0m \u001b[0;36m100\u001b[0m\u001b[0;34m)\u001b[0m\u001b[0;34m\u001b[0m\u001b[0;34m\u001b[0m\u001b[0m\n\u001b[1;32m     35\u001b[0m         \u001b[0;32mfor\u001b[0m \u001b[0mi\u001b[0m\u001b[0;34m,\u001b[0m \u001b[0mfunction\u001b[0m \u001b[0;32min\u001b[0m \u001b[0menumerate\u001b[0m\u001b[0;34m(\u001b[0m\u001b[0mdata\u001b[0m\u001b[0;34m)\u001b[0m\u001b[0;34m:\u001b[0m\u001b[0;34m\u001b[0m\u001b[0;34m\u001b[0m\u001b[0m\n\u001b[0;32m---> 36\u001b[0;31m             \u001b[0moptimizer\u001b[0m\u001b[0;34m.\u001b[0m\u001b[0mzero_grad\u001b[0m\u001b[0;34m(\u001b[0m\u001b[0;34m)\u001b[0m\u001b[0;34m\u001b[0m\u001b[0;34m\u001b[0m\u001b[0m\n\u001b[0m\u001b[1;32m     37\u001b[0m             \u001b[0mnum_points\u001b[0m \u001b[0;34m=\u001b[0m \u001b[0mfunction\u001b[0m\u001b[0;34m[\u001b[0m\u001b[0;36m0\u001b[0m\u001b[0;34m]\u001b[0m\u001b[0;34m.\u001b[0m\u001b[0msize\u001b[0m\u001b[0;34m(\u001b[0m\u001b[0;34m)\u001b[0m\u001b[0;34m[\u001b[0m\u001b[0;36m0\u001b[0m\u001b[0;34m]\u001b[0m\u001b[0;34m\u001b[0m\u001b[0;34m\u001b[0m\u001b[0m\n\u001b[1;32m     38\u001b[0m             \u001b[0mperm\u001b[0m \u001b[0;34m=\u001b[0m \u001b[0mtorch\u001b[0m\u001b[0;34m.\u001b[0m\u001b[0mrandperm\u001b[0m\u001b[0;34m(\u001b[0m\u001b[0mnum_points\u001b[0m\u001b[0;34m)\u001b[0m\u001b[0;34m\u001b[0m\u001b[0;34m\u001b[0m\u001b[0m\n",
      "\u001b[0;32m~/anaconda3/lib/python3.7/site-packages/torch/optim/optimizer.py\u001b[0m in \u001b[0;36mzero_grad\u001b[0;34m(self)\u001b[0m\n\u001b[1;32m    162\u001b[0m                 \u001b[0;32mif\u001b[0m \u001b[0mp\u001b[0m\u001b[0;34m.\u001b[0m\u001b[0mgrad\u001b[0m \u001b[0;32mis\u001b[0m \u001b[0;32mnot\u001b[0m \u001b[0;32mNone\u001b[0m\u001b[0;34m:\u001b[0m\u001b[0;34m\u001b[0m\u001b[0;34m\u001b[0m\u001b[0m\n\u001b[1;32m    163\u001b[0m                     \u001b[0mp\u001b[0m\u001b[0;34m.\u001b[0m\u001b[0mgrad\u001b[0m\u001b[0;34m.\u001b[0m\u001b[0mdetach_\u001b[0m\u001b[0;34m(\u001b[0m\u001b[0;34m)\u001b[0m\u001b[0;34m\u001b[0m\u001b[0;34m\u001b[0m\u001b[0m\n\u001b[0;32m--> 164\u001b[0;31m                     \u001b[0mp\u001b[0m\u001b[0;34m.\u001b[0m\u001b[0mgrad\u001b[0m\u001b[0;34m.\u001b[0m\u001b[0mzero_\u001b[0m\u001b[0;34m(\u001b[0m\u001b[0;34m)\u001b[0m\u001b[0;34m\u001b[0m\u001b[0;34m\u001b[0m\u001b[0m\n\u001b[0m\u001b[1;32m    165\u001b[0m \u001b[0;34m\u001b[0m\u001b[0m\n\u001b[1;32m    166\u001b[0m     \u001b[0;32mdef\u001b[0m \u001b[0mstep\u001b[0m\u001b[0;34m(\u001b[0m\u001b[0mself\u001b[0m\u001b[0;34m,\u001b[0m \u001b[0mclosure\u001b[0m\u001b[0;34m)\u001b[0m\u001b[0;34m:\u001b[0m\u001b[0;34m\u001b[0m\u001b[0;34m\u001b[0m\u001b[0m\n",
      "\u001b[0;31mKeyboardInterrupt\u001b[0m: "
     ]
    }
   ],
   "source": [
    "\n",
    "optimizer = torch.optim.Adam(model.parameters(), lr=3e-3)\n",
    "alpha = 1\n",
    "for i in range(20):\n",
    "    print(100*i)\n",
    "    train(datapoints, model, 100, 99, alpha, optimizer)\n",
    "    sample_plot(model, testpoints, testpoints[0])\n",
    "    #variance_plot(model, testpoints, testpoints[1])\n",
    "    plt.show()"
   ]
  },
  {
   "cell_type": "code",
   "execution_count": null,
   "metadata": {},
   "outputs": [],
   "source": [
    "\n",
    "\n",
    "\n",
    "\n"
   ]
  },
  {
   "cell_type": "code",
   "execution_count": null,
   "metadata": {},
   "outputs": [],
   "source": []
  }
 ],
 "metadata": {
  "kernelspec": {
   "display_name": "Python 3",
   "language": "python",
   "name": "python3"
  },
  "language_info": {
   "codemirror_mode": {
    "name": "ipython",
    "version": 3
   },
   "file_extension": ".py",
   "mimetype": "text/x-python",
   "name": "python",
   "nbconvert_exporter": "python",
   "pygments_lexer": "ipython3",
   "version": "3.7.3"
  }
 },
 "nbformat": 4,
 "nbformat_minor": 4
}
