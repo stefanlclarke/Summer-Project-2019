{
 "cells": [
  {
   "cell_type": "code",
   "execution_count": 5,
   "metadata": {},
   "outputs": [],
   "source": [
    "import numpy as np\n",
    "import torch\n",
    "from torch.autograd import Variable\n",
    "from matplotlib import pyplot as plt\n",
    "import torch.nn as nn\n",
    "import torch.nn.functional as F\n",
    "import random"
   ]
  },
  {
   "cell_type": "code",
   "execution_count": 6,
   "metadata": {},
   "outputs": [],
   "source": [
    "#Learns an encoding to distinguish between vectors [1,0] and [0,1]. The representation in\n",
    "#z-space is visualised below.\n",
    "\n",
    "num_each_point = 1000\n",
    "input_size = 2\n",
    "encoded_size = 1\n",
    "data = [[1,0] for i in range(num_each_point)]+ [[0,1] for i in range(num_each_point)]\n",
    "random.shuffle(data)\n",
    "colours = []\n",
    "for point in data:\n",
    "    if point == [1,0]:\n",
    "        colours.append(0)\n",
    "    else:\n",
    "        colours.append(1)"
   ]
  },
  {
   "cell_type": "code",
   "execution_count": 7,
   "metadata": {},
   "outputs": [],
   "source": [
    "class VAE(nn.Module):\n",
    "    \n",
    "    def __init__(self):\n",
    "        super(VAE, self).__init__()\n",
    "        self.e = nn.Linear(input_size, 10)\n",
    "        self.e_mean = nn.Linear(10, encoded_size)\n",
    "        self.e_logvar = nn.Linear(10, encoded_size)\n",
    "        self.d1 = nn.Linear(encoded_size, 10)\n",
    "        self.d2 = nn.Linear(10, input_size)\n",
    "        self.relu = nn.ReLU()\n",
    "        self.sigmoid = nn.Sigmoid()\n",
    "        \n",
    "    def en(self, x):\n",
    "        mean = self.e_mean(self.relu(self.e(x)))\n",
    "        logvar = self.e_logvar(self.relu(self.e(x)))\n",
    "        return mean, logvar\n",
    "    \n",
    "    def sample(self, mean, logvar):\n",
    "        std = torch.exp(0.5*logvar)\n",
    "        eps = torch.randn_like(std)\n",
    "        return mean + eps*std\n",
    "    \n",
    "    def de(self, z):\n",
    "        output = self.sigmoid(self.d2(self.relu(self.d1(z))))\n",
    "        return output\n",
    "    \n",
    "    def forward(self, x):\n",
    "        mu, logvar = self.en(x)\n",
    "        z = self.sample(mu, logvar)\n",
    "        result = self.de(z)\n",
    "        return result, mu, logvar"
   ]
  },
  {
   "cell_type": "code",
   "execution_count": 11,
   "metadata": {},
   "outputs": [],
   "source": [
    "model = VAE()\n",
    "optimizer = torch.optim.Adam(model.parameters(), lr=1e-3)"
   ]
  },
  {
   "cell_type": "code",
   "execution_count": 14,
   "metadata": {},
   "outputs": [],
   "source": [
    "def lossf(newx, x, mu, logvar):\n",
    "    BCE = F.binary_cross_entropy(newx, x.view(-1, input_size), reduction = 'sum')\n",
    "    #KLD = -0.5*torch.sum(1 + logvar - mu.pow(2) - logvar.exp())\n",
    "    #return BCE + KLD\n",
    "    return BCE\n",
    "\n",
    "def train(epochs):\n",
    "    for epoch in range(epochs):\n",
    "        model.train()\n",
    "        train_loss = 0\n",
    "        for point in data:\n",
    "            optimizer.zero_grad()\n",
    "            point = Variable(torch.tensor(point).float())\n",
    "            newpoint, mu, logvar = model(point)\n",
    "            loss = lossf(newpoint, point.detach(), mu, logvar)\n",
    "            loss.backward()\n",
    "            train_loss += loss.item()\n",
    "            optimizer.step()\n",
    "        print('EPOCH: {} LOSS {}'.format(epoch, train_loss))\n",
    "        print(model.e.weight)"
   ]
  },
  {
   "cell_type": "code",
   "execution_count": 15,
   "metadata": {},
   "outputs": [
    {
     "name": "stderr",
     "output_type": "stream",
     "text": [
      "C:\\Users\\Stefan Clarke\\Anaconda3\\lib\\site-packages\\ipykernel_launcher.py:2: UserWarning: Using a target size (torch.Size([1, 2])) that is different to the input size (torch.Size([2])) is deprecated. Please ensure they have the same size.\n",
      "  \n"
     ]
    },
    {
     "name": "stdout",
     "output_type": "stream",
     "text": [
      "EPOCH: 0 LOSS 77.00150056996063\n",
      "Parameter containing:\n",
      "tensor([[ 0.3863,  0.2230],\n",
      "        [-0.4080, -0.3798],\n",
      "        [ 0.3873, -0.5550],\n",
      "        [-0.2748,  0.3101],\n",
      "        [ 0.3708, -0.5109],\n",
      "        [ 0.4793,  0.5203],\n",
      "        [ 0.2111, -0.0333],\n",
      "        [ 0.1710, -0.5622],\n",
      "        [ 1.2048, -0.5430],\n",
      "        [-0.9375,  0.3513]], requires_grad=True)\n",
      "EPOCH: 1 LOSS 3.9777548520269193\n",
      "Parameter containing:\n",
      "tensor([[ 0.4016,  0.2277],\n",
      "        [-0.4080, -0.3798],\n",
      "        [ 0.4157, -0.5809],\n",
      "        [-0.3183,  0.3727],\n",
      "        [ 0.3708, -0.5109],\n",
      "        [ 0.4847,  0.5730],\n",
      "        [ 0.2279, -0.0210],\n",
      "        [ 0.1710, -0.5622],\n",
      "        [ 1.2372, -0.5677],\n",
      "        [-0.9581,  0.3847]], requires_grad=True)\n",
      "EPOCH: 2 LOSS 0.8955958696353719\n",
      "Parameter containing:\n",
      "tensor([[ 0.4136,  0.2287],\n",
      "        [-0.4080, -0.3798],\n",
      "        [ 0.4386, -0.6020],\n",
      "        [-0.3557,  0.4159],\n",
      "        [ 0.3708, -0.5109],\n",
      "        [ 0.4875,  0.6079],\n",
      "        [ 0.2413, -0.0151],\n",
      "        [ 0.1710, -0.5622],\n",
      "        [ 1.2631, -0.5868],\n",
      "        [-0.9761,  0.4061]], requires_grad=True)\n",
      "EPOCH: 3 LOSS 0.2408691021753384\n",
      "Parameter containing:\n",
      "tensor([[ 0.4236,  0.2282],\n",
      "        [-0.4080, -0.3798],\n",
      "        [ 0.4579, -0.6204],\n",
      "        [-0.3886,  0.4545],\n",
      "        [ 0.3708, -0.5109],\n",
      "        [ 0.4902,  0.6380],\n",
      "        [ 0.2529, -0.0115],\n",
      "        [ 0.1710, -0.5622],\n",
      "        [ 1.2850, -0.6053],\n",
      "        [-0.9935,  0.4243]], requires_grad=True)\n",
      "EPOCH: 4 LOSS 0.06593448367117105\n",
      "Parameter containing:\n",
      "tensor([[ 0.4312,  0.2253],\n",
      "        [-0.4080, -0.3798],\n",
      "        [ 0.4734, -0.6345],\n",
      "        [-0.4165,  0.4861],\n",
      "        [ 0.3708, -0.5109],\n",
      "        [ 0.4893,  0.6606],\n",
      "        [ 0.2617, -0.0111],\n",
      "        [ 0.1710, -0.5622],\n",
      "        [ 1.3025, -0.6161],\n",
      "        [-1.0038,  0.4386]], requires_grad=True)\n"
     ]
    }
   ],
   "source": [
    "train(5)"
   ]
  },
  {
   "cell_type": "code",
   "execution_count": 90,
   "metadata": {},
   "outputs": [
    {
     "data": {
      "text/plain": [
       "(tensor([0.9958, 0.0049], grad_fn=<SigmoidBackward>),\n",
       " tensor([0.9104], grad_fn=<AddBackward0>),\n",
       " tensor([-1.3836], grad_fn=<AddBackward0>))"
      ]
     },
     "execution_count": 90,
     "metadata": {},
     "output_type": "execute_result"
    }
   ],
   "source": [
    "model(torch.tensor([1.0,0.0]))"
   ]
  },
  {
   "cell_type": "code",
   "execution_count": 102,
   "metadata": {},
   "outputs": [
    {
     "data": {
      "text/plain": [
       "<matplotlib.collections.PathCollection at 0x2142243f438>"
      ]
     },
     "execution_count": 102,
     "metadata": {},
     "output_type": "execute_result"
    },
    {
     "data": {
      "image/png": "[encoded data removed]",
      "text/plain": [
       "<Figure size 432x288 with 1 Axes>"
      ]
     },
     "metadata": {},
     "output_type": "display_data"
    }
   ],
   "source": [
    "zmean, zlogvar = model.en(torch.tensor(data).float())\n",
    "zdata = model.sample(zmean, zlogvar)\n",
    "zdata = zdata.detach().numpy()\n",
    "zeros = [0 for _ in range(len(zdata))]\n",
    "plt.scatter(zdata, zeros, c=colours)"
   ]
  },
  {
   "cell_type": "code",
   "execution_count": 146,
   "metadata": {},
   "outputs": [
    {
     "data": {
      "text/plain": [
       "([array([  0.,   0.,   0.,   5.,  36., 191., 346., 290., 113.,  19.]),\n",
       "  array([ 21., 124., 335., 351., 141.,  26.,   2.,   0.,   0.,   0.])],\n",
       " array([-2.31629038, -1.84275696, -1.36922355, -0.89569013, -0.42215672,\n",
       "         0.0513767 ,  0.52491012,  0.99844353,  1.47197695,  1.94551036,\n",
       "         2.41904378]),\n",
       " <a list of 2 Lists of Patches objects>)"
      ]
     },
     "execution_count": 146,
     "metadata": {},
     "output_type": "execute_result"
    },
    {
     "data": {
      "image/png": "[encoded data removed]",
      "text/plain": [
       "<Figure size 432x288 with 1 Axes>"
      ]
     },
     "metadata": {},
     "output_type": "display_data"
    }
   ],
   "source": [
    "#\n",
    "\n",
    "zdatayellow = np.array([zdata[i] for i in range(len(zdata)) if colours[i] == 0])\n",
    "zdatapurple = np.array([zdata[i] for i in range(len(zdata)) if colours[i] == 1])\n",
    "plt.hist(np.array([zdatayellow, zdatapurple]).T.reshape(len(zdatayellow),2 ), color = ['purple', 'yellow'])"
   ]
  }
 ],
 "metadata": {
  "kernelspec": {
   "display_name": "Python 3",
   "language": "python",
   "name": "python3"
  },
  "language_info": {
   "codemirror_mode": {
    "name": "ipython",
    "version": 3
   },
   "file_extension": ".py",
   "mimetype": "text/x-python",
   "name": "python",
   "nbconvert_exporter": "python",
   "pygments_lexer": "ipython3",
   "version": "3.6.5"
  }
 },
 "nbformat": 4,
 "nbformat_minor": 2
}
