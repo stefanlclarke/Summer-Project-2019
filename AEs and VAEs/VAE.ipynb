{
 "cells": [
  {
   "cell_type": "code",
   "execution_count": 110,
   "metadata": {},
   "outputs": [],
   "source": [
    "import numpy as np\n",
    "import torch\n",
    "from torch.autograd import Variable\n",
    "from matplotlib import pyplot as plt\n",
    "import torch.nn as nn\n",
    "import torch.nn.functional as F\n",
    "import random"
   ]
  },
  {
   "cell_type": "code",
   "execution_count": 111,
   "metadata": {},
   "outputs": [
    {
     "data": {
      "image/png": "[encoded data removed]",
      "text/plain": [
       "<Figure size 432x288 with 1 Axes>"
      ]
     },
     "metadata": {},
     "output_type": "display_data"
    }
   ],
   "source": [
    "blue_points = 200\n",
    "blue_mean = np.array([1/2, 1/4])\n",
    "red_points = 200\n",
    "red_mean = np.array([1/4, 1/2])\n",
    "data_blue = blue_mean + np.random.normal(size=[blue_points,2], scale = 0.1) \n",
    "data_red = red_mean + np.random.normal(size = [red_points,2], scale = 0.1)\n",
    "\n",
    "plt.scatter(data_blue[:,0], data_blue[:,1], c = 'b')\n",
    "plt.scatter(data_red[:,0], data_red[:,1], c = 'r')\n",
    "\n",
    "\n",
    "data_blue1 = []\n",
    "data_red1 = []\n",
    "for i in range(len(data_blue)):\n",
    "    new_point = np.append(data_blue[i], 0)\n",
    "    data_blue1.append(new_point)\n",
    "for i in range(len(data_red)):\n",
    "    new_point = np.append(data_red[i], 1)\n",
    "    data_red1.append(new_point)\n",
    "\n",
    "data = data_blue1 + data_red1\n",
    "random.shuffle(data)\n",
    "data = np.array(data)"
   ]
  },
  {
   "cell_type": "code",
   "execution_count": 112,
   "metadata": {},
   "outputs": [],
   "source": [
    "input_size = 3\n",
    "representation_size = 2\n",
    "\n",
    "class VAE(nn.Module):\n",
    "    def __init__(self):\n",
    "        super(VAE, self).__init__()\n",
    "        self.en1 = nn.Linear(input_size, 100)\n",
    "        self.en_mu = nn.Linear(100, representation_size)\n",
    "        self.en_std = nn.Linear(100, representation_size)\n",
    "        self.de1 = nn.Linear(representation_size, 100)\n",
    "        self.relu = nn.ReLU()\n",
    "        self.de2 = nn.Linear(100, input_size)\n",
    "        self.sigmoid = nn.Sigmoid()\n",
    "            \n",
    "    def encode(self, x):\n",
    "        h1 = self.en1(x)\n",
    "        r1 = self.relu(h1)\n",
    "        mu = self.en_mu(r1)\n",
    "        std = self.en_std(r1)\n",
    "        return mu, std\n",
    "    \n",
    "    def decode(self, z):\n",
    "        h2 = self.de1(z)\n",
    "        r2 = self.relu(h2)\n",
    "        h3 = self.de2(r2)\n",
    "        output = self.sigmoid(h3)\n",
    "        #output = h3\n",
    "        return output\n",
    "        \n",
    "    def normal(self, mu, logvar):\n",
    "        if self.training:\n",
    "            std = logvar.mul(0.5).exp_()\n",
    "            eps = Variable(std.data.new(std.size()).normal_())\n",
    "            return eps.mul(std).add_(mu)\n",
    "        else:\n",
    "            return mu\n",
    "    \n",
    "    def loss(self, reconstruction, x, mu, logvar):\n",
    "        bce = torch.nn.functional.binary_cross_entropy(reconstruction, x.view(-1, input_size))\n",
    "        KLD = -0.5*torch.sum(1+logvar - mu.pow(2) - logvar.exp())\n",
    "        KLD /= x.view(-1, input_size).data.shape[0]*input_size\n",
    "        return bce\n",
    "    \n",
    "    def forward(self, x):\n",
    "        mu, std = self.encode(x)\n",
    "        z = self.normal(mu, std)\n",
    "        output = self.decode(z)\n",
    "        return output, mu, std"
   ]
  },
  {
   "cell_type": "code",
   "execution_count": 113,
   "metadata": {},
   "outputs": [],
   "source": [
    "model = VAE()\n",
    "optimizer = torch.optim.Adam(model.parameters(), lr=0.1)"
   ]
  },
  {
   "cell_type": "code",
   "execution_count": 114,
   "metadata": {},
   "outputs": [],
   "source": [
    "def train(epoch, x):\n",
    "    model.train()\n",
    "    \n",
    "    for i in range(epoch):\n",
    "        for j in range(len(x)):\n",
    "            point = x[j]\n",
    "            point = Variable(torch.FloatTensor(point).float(), requires_grad=True)\n",
    "            target = point.clone()\n",
    "            target = Variable(torch.FloatTensor(target).float(), requires_grad=False)\n",
    "            optimizer.zero_grad()\n",
    "            output, mu, std = model(point)\n",
    "            loss =  model.loss(output, target, mu, std)\n",
    "            loss.backward()\n",
    "            optimizer.step()\n",
    "            if j % 300 == 0:\n",
    "                print(\"Epoch {} - loss: {}\".format(i, loss.data))"
   ]
  },
  {
   "cell_type": "code",
   "execution_count": 115,
   "metadata": {},
   "outputs": [],
   "source": [
    "train(0, data)"
   ]
  },
  {
   "cell_type": "raw",
   "metadata": {},
   "source": [
    "model.eval()\n",
    "data = Variable(torch.FloatTensor(data).float(), requires_grad=True)\n",
    "new_data = model(data)[0]\n",
    "\n",
    "new_data = list(new_data)\n",
    "for i in range(len(new_data)):\n",
    "    if new_data[i][2] > 1/2:\n",
    "        new_data[i][2] = 1\n",
    "    else:\n",
    "        new_data[i][2] = 0\n",
    "        \n",
    "reds = [point.detach().numpy() for point in new_data if point[2] == 1]\n",
    "blues = [point.detach().numpy() for point in new_data if point[2] == 0]\n",
    "\n",
    "reds = np.array(reds)\n",
    "blues = np.array(blues)"
   ]
  },
  {
   "cell_type": "code",
   "execution_count": 116,
   "metadata": {},
   "outputs": [
    {
     "data": {
      "text/plain": [
       "<matplotlib.collections.PathCollection at 0x1f3e27dd908>"
      ]
     },
     "execution_count": 116,
     "metadata": {},
     "output_type": "execute_result"
    },
    {
     "data": {
      "image/png": "[encoded data removed]",
      "text/plain": [
       "<Figure size 432x288 with 1 Axes>"
      ]
     },
     "metadata": {},
     "output_type": "display_data"
    }
   ],
   "source": [
    "\n",
    "plt.scatter(blues[:,0], blues[:,1], c = 'b')\n",
    "plt.scatter(reds[:,0], reds[:,1], c = 'r')"
   ]
  },
  {
   "cell_type": "code",
   "execution_count": null,
   "metadata": {},
   "outputs": [],
   "source": []
  }
 ],
 "metadata": {
  "kernelspec": {
   "display_name": "Python 3",
   "language": "python",
   "name": "python3"
  },
  "language_info": {
   "codemirror_mode": {
    "name": "ipython",
    "version": 3
   },
   "file_extension": ".py",
   "mimetype": "text/x-python",
   "name": "python",
   "nbconvert_exporter": "python",
   "pygments_lexer": "ipython3",
   "version": "3.6.5"
  }
 },
 "nbformat": 4,
 "nbformat_minor": 2
}
