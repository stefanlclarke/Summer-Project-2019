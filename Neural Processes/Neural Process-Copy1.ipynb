{
 "cells": [
  {
   "cell_type": "code",
   "execution_count": 2,
   "metadata": {},
   "outputs": [],
   "source": [
    "import numpy as np\n",
    "import torch\n",
    "from torch.autograd import Variable\n",
    "from matplotlib import pyplot as plt\n",
    "import torch.nn as nn\n",
    "import torch.nn.functional as F\n",
    "import random"
   ]
  },
  {
   "cell_type": "code",
   "execution_count": 3,
   "metadata": {},
   "outputs": [
    {
     "data": {
      "text/plain": [
       "<matplotlib.collections.PathCollection at 0x2719a7fbf28>"
      ]
     },
     "execution_count": 3,
     "metadata": {},
     "output_type": "execute_result"
    },
    {
     "data": {
      "image/png": "[encoded data removed]",
      "text/plain": [
       "<Figure size 432x288 with 1 Axes>"
      ]
     },
     "metadata": {},
     "output_type": "display_data"
    }
   ],
   "source": [
    "#function data is generated from\n",
    "def f(x):\n",
    "    return x**3 + 0.1*x + 1 + np.random.normal(scale = 0.1)\n",
    "\n",
    "num_datapoints = 100\n",
    "r_size = 2\n",
    "z_size = 2\n",
    "\n",
    "datapoints = []\n",
    "for i in range(num_datapoints):\n",
    "    x = np.random.uniform(-1,1)\n",
    "    datapoints.append([x,f(x)])\n",
    "datapoints = np.array(datapoints)\n",
    "    \n",
    "plt.scatter(datapoints[:,0], datapoints[:,1])"
   ]
  },
  {
   "cell_type": "code",
   "execution_count": 4,
   "metadata": {},
   "outputs": [],
   "source": [
    "class r_encoder(nn.Module):\n",
    "    def __init__(self):\n",
    "        super(r_encoder, self).__init__()\n",
    "        self.fc1 = nn.Linear(2, 10)\n",
    "        self.fc2 = nn.Linear(10, 10)\n",
    "        self.fc3 = nn.Linear(10, r_size)\n",
    "        self.relu = nn.ReLU()\n",
    "        \n",
    "    def forward(self, x):\n",
    "        r1 = self.relu(self.fc1(x))\n",
    "        r2 = self.relu(self.fc2(r1))\n",
    "        output = self.fc3(r2)\n",
    "        return output\n",
    "\n",
    "class z_encoder(nn.Module):\n",
    "    def __init__(self):\n",
    "        super(z_encoder, self).__init__()\n",
    "        self.fc1 = nn.Linear(r_size, 10)\n",
    "        self.fc2_mu = nn.Linear(10, z_size)\n",
    "        self.fc2_logvar = nn.Linear(10, z_size)\n",
    "        self.relu = nn.ReLU()\n",
    "        \n",
    "    def forward(self, r):\n",
    "        r1 = self.relu(self.fc1(r))\n",
    "        mu = self.fc2_mu(r1)\n",
    "        logvar = self.fc2_logvar(r1)\n",
    "        return mu, logvar\n",
    "    \n",
    "class decoder(nn.Module):\n",
    "    def __init__(self):\n",
    "        super(decoder, self).__init__()\n",
    "        self.fc1 = nn.Linear(z_size + 2, 10)\n",
    "        self.fc2 = nn.Linear(10, 10)\n",
    "        self.fc3 = nn.Linear(10, 1)\n",
    "        self.relu = nn.ReLU()\n",
    "        self.sigmoid = nn.Sigmoid()\n",
    "        \n",
    "    def forward(self, z, x, y):\n",
    "        zx = torch.cat((z,x, y))\n",
    "        r1 = self.relu(self.fc1(zx))\n",
    "        r2 = self.relu(self.fc2(r1))\n",
    "        prob_y = self.sigmoid(self.fc3(r2))\n",
    "        return prob_y"
   ]
  },
  {
   "cell_type": "code",
   "execution_count": 26,
   "metadata": {},
   "outputs": [],
   "source": [
    "EncR = r_encoder()\n",
    "EncZ = z_encoder()\n",
    "Dec = decoder()\n",
    "\n",
    "R_Opt = torch.optim.Adam(EncR.parameters(), lr=1e-3)\n",
    "Z_Opt = torch.optim.Adam(EncZ.parameters(), lr=1e-3)\n",
    "D_Opt = torch.optim.Adam(Dec.parameters(), lr=1e-3)\n",
    "\n",
    "def KL_div(mu1, mu2, std1, std2, z):\n",
    "    a = log_likelihood(mu1, std1, z)\n",
    "    b = log_likelihood(mu2, std2, z)\n",
    "    return a - b\n",
    "\n",
    "def log_likelihood(x, y, m, data):\n",
    "    ztotal = 0\n",
    "    y = torch.tensor([y]).float()\n",
    "    x = torch.tensor([x]).float()\n",
    "    r = EncR(torch.tensor(data).float())\n",
    "    rmean = torch.sum(r, dim=0)\n",
    "    mu, logvar = EncZ(rmean)\n",
    "    for i in range(m):\n",
    "        z = get_z(mu, logvar)\n",
    "        ztotal += torch.log(Dec(z, x, y))\n",
    "    zmean = ztotal/m\n",
    "    return zmean\n",
    "\n",
    "def get_z(mu, logvar):\n",
    "    std = torch.exp(0.5*logvar)\n",
    "    N = torch.randn_like(10*std)\n",
    "    return mu + N*std"
   ]
  },
  {
   "cell_type": "code",
   "execution_count": 27,
   "metadata": {},
   "outputs": [],
   "source": [
    "def forward(data, point):\n",
    "    R = EncR(data)\n",
    "    Rmean = torch.sum(R,dim=0)\n",
    "    mu, logvar = EncZ(Rmean)\n",
    "    Z = get_z(mu, logvar)\n",
    "    ypred = Dec(Z, point)\n",
    "    return ypred, mu, logvar, Z\n",
    "\n",
    "def loss(y, ypred, mu, std, z):\n",
    "    return MSE(ypred, y) + KL_div(mu, torch.tensor([0.,0.]), std, torch.tensor([1.,1.]), z)\n",
    "\n",
    "epochs = 1000\n",
    "def train(data):\n",
    "    data = torch.tensor(data).float()\n",
    "    for epoch in range(epochs):\n",
    "        epoch_loss = 0\n",
    "        for point in data:\n",
    "            R_Opt.zero_grad()\n",
    "            Z_Opt.zero_grad()\n",
    "            D_Opt.zero_grad()\n",
    "            y = point[1]\n",
    "            x = point[0]\n",
    "            x = torch.tensor([x], requires_grad=True).float()\n",
    "            ypred, mu, logvar, z = forward(data, x)\n",
    "            std = (1/2*logvar).exp_()\n",
    "            los = loss(y, ypred, mu, std, z)\n",
    "            los.backward(retain_graph=True)\n",
    "            epoch_loss += los\n",
    "            R_Opt.step()\n",
    "            Z_Opt.step()\n",
    "            D_Opt.step()\n",
    "        \n",
    "        if epoch % 100 == 0:\n",
    "            print('EPOCH: {}, EPOCH LOSS: {}'.format(epoch, epoch_loss[0]))\n",
    "            plot()"
   ]
  },
  {
   "cell_type": "code",
   "execution_count": 28,
   "metadata": {},
   "outputs": [
    {
     "name": "stdout",
     "output_type": "stream",
     "text": [
      "tensor([17.5468,  1.3221], grad_fn=<AddBackward0>)\n",
      "tensor([1.])\n",
      "tensor([1.])\n",
      "tensor([17.7522,  1.5239], grad_fn=<AddBackward0>)\n",
      "tensor([1.])\n",
      "tensor([1.])\n",
      "tensor([17.9788,  0.8415], grad_fn=<AddBackward0>)\n",
      "tensor([1.])\n",
      "tensor([1.])\n",
      "tensor([17.5282,  1.1587], grad_fn=<AddBackward0>)\n",
      "tensor([1.])\n",
      "tensor([1.])\n",
      "tensor([17.7128,  1.4414], grad_fn=<AddBackward0>)\n",
      "tensor([1.])\n",
      "tensor([1.])\n",
      "tensor([17.7343,  1.2609], grad_fn=<AddBackward0>)\n",
      "tensor([1.])\n",
      "tensor([1.])\n",
      "tensor([17.0206,  1.3165], grad_fn=<AddBackward0>)\n",
      "tensor([1.])\n",
      "tensor([1.])\n",
      "tensor([18.1684,  1.3950], grad_fn=<AddBackward0>)\n",
      "tensor([1.])\n",
      "tensor([1.])\n",
      "tensor([17.9135,  0.9392], grad_fn=<AddBackward0>)\n",
      "tensor([1.])\n",
      "tensor([1.])\n",
      "tensor([17.7365,  1.5743], grad_fn=<AddBackward0>)\n",
      "tensor([1.])\n",
      "tensor([1.])\n"
     ]
    },
    {
     "data": {
      "text/plain": [
       "tensor([-1.6038], grad_fn=<DivBackward0>)"
      ]
     },
     "execution_count": 28,
     "metadata": {},
     "output_type": "execute_result"
    }
   ],
   "source": [
    "log_likelihood(1, 1, 10, datapoints)"
   ]
  },
  {
   "cell_type": "code",
   "execution_count": null,
   "metadata": {},
   "outputs": [],
   "source": []
  }
 ],
 "metadata": {
  "kernelspec": {
   "display_name": "Python 3",
   "language": "python",
   "name": "python3"
  },
  "language_info": {
   "codemirror_mode": {
    "name": "ipython",
    "version": 3
   },
   "file_extension": ".py",
   "mimetype": "text/x-python",
   "name": "python",
   "nbconvert_exporter": "python",
   "pygments_lexer": "ipython3",
   "version": "3.6.5"
  }
 },
 "nbformat": 4,
 "nbformat_minor": 2
}
