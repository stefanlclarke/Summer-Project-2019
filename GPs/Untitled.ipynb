{
 "cells": [
  {
   "cell_type": "code",
   "execution_count": 44,
   "metadata": {},
   "outputs": [],
   "source": [
    "import numpy as np\n",
    "import torch\n",
    "import gpytorch\n",
    "from matplotlib import pyplot as plt\n",
    "import GaussianProcess\n",
    "import gpytorch"
   ]
  },
  {
   "cell_type": "code",
   "execution_count": 51,
   "metadata": {},
   "outputs": [],
   "source": [
    "train_x = torch.linspace(0, 1, 30)\n",
    "train_y = np.sin(10*train_x)\n",
    "\n",
    "likelihood = gpytorch.likelihoods.GaussianLikelihood()\n",
    "model = GaussianProcess.ExactGPModel(train_x, train_y, likelihood)"
   ]
  },
  {
   "cell_type": "code",
   "execution_count": 52,
   "metadata": {},
   "outputs": [
    {
     "name": "stdout",
     "output_type": "stream",
     "text": [
      "Iter 1/50 - Loss: 1.129   lengthscale: 0.693   noise: 0.693\n",
      "Iter 2/50 - Loss: 1.112   lengthscale: 0.644   noise: 0.644\n",
      "Iter 3/50 - Loss: 1.096   lengthscale: 0.601   noise: 0.598\n",
      "Iter 4/50 - Loss: 1.081   lengthscale: 0.561   noise: 0.555\n",
      "Iter 5/50 - Loss: 1.067   lengthscale: 0.522   noise: 0.514\n",
      "Iter 6/50 - Loss: 1.054   lengthscale: 0.485   noise: 0.477\n",
      "Iter 7/50 - Loss: 1.042   lengthscale: 0.450   noise: 0.442\n",
      "Iter 8/50 - Loss: 1.030   lengthscale: 0.417   noise: 0.411\n",
      "Iter 9/50 - Loss: 1.015   lengthscale: 0.385   noise: 0.382\n",
      "Iter 10/50 - Loss: 0.995   lengthscale: 0.356   noise: 0.357\n",
      "Iter 11/50 - Loss: 0.969   lengthscale: 0.328   noise: 0.334\n",
      "Iter 12/50 - Loss: 0.932   lengthscale: 0.302   noise: 0.312\n",
      "Iter 13/50 - Loss: 0.882   lengthscale: 0.278   noise: 0.292\n",
      "Iter 14/50 - Loss: 0.816   lengthscale: 0.255   noise: 0.271\n",
      "Iter 15/50 - Loss: 0.737   lengthscale: 0.234   noise: 0.250\n",
      "Iter 16/50 - Loss: 0.653   lengthscale: 0.213   noise: 0.230\n",
      "Iter 17/50 - Loss: 0.575   lengthscale: 0.194   noise: 0.211\n",
      "Iter 18/50 - Loss: 0.510   lengthscale: 0.176   noise: 0.192\n",
      "Iter 19/50 - Loss: 0.459   lengthscale: 0.161   noise: 0.175\n",
      "Iter 20/50 - Loss: 0.419   lengthscale: 0.147   noise: 0.158\n",
      "Iter 21/50 - Loss: 0.386   lengthscale: 0.136   noise: 0.143\n",
      "Iter 22/50 - Loss: 0.356   lengthscale: 0.126   noise: 0.129\n",
      "Iter 23/50 - Loss: 0.327   lengthscale: 0.119   noise: 0.116\n",
      "Iter 24/50 - Loss: 0.298   lengthscale: 0.114   noise: 0.104\n",
      "Iter 25/50 - Loss: 0.267   lengthscale: 0.110   noise: 0.093\n",
      "Iter 26/50 - Loss: 0.233   lengthscale: 0.108   noise: 0.083\n",
      "Iter 27/50 - Loss: 0.196   lengthscale: 0.107   noise: 0.074\n",
      "Iter 28/50 - Loss: 0.156   lengthscale: 0.107   noise: 0.066\n",
      "Iter 29/50 - Loss: 0.113   lengthscale: 0.108   noise: 0.059\n",
      "Iter 30/50 - Loss: 0.068   lengthscale: 0.110   noise: 0.053\n",
      "Iter 31/50 - Loss: 0.020   lengthscale: 0.114   noise: 0.047\n",
      "Iter 32/50 - Loss: -0.030   lengthscale: 0.118   noise: 0.042\n",
      "Iter 33/50 - Loss: -0.080   lengthscale: 0.123   noise: 0.037\n",
      "Iter 34/50 - Loss: -0.131   lengthscale: 0.129   noise: 0.033\n",
      "Iter 35/50 - Loss: -0.181   lengthscale: 0.135   noise: 0.029\n",
      "Iter 36/50 - Loss: -0.230   lengthscale: 0.142   noise: 0.026\n",
      "Iter 37/50 - Loss: -0.275   lengthscale: 0.149   noise: 0.023\n",
      "Iter 38/50 - Loss: -0.318   lengthscale: 0.156   noise: 0.021\n",
      "Iter 39/50 - Loss: -0.359   lengthscale: 0.163   noise: 0.018\n",
      "Iter 40/50 - Loss: -0.398   lengthscale: 0.169   noise: 0.016\n",
      "Iter 41/50 - Loss: -0.438   lengthscale: 0.173   noise: 0.015\n",
      "Iter 42/50 - Loss: -0.481   lengthscale: 0.176   noise: 0.013\n",
      "Iter 43/50 - Loss: -0.526   lengthscale: 0.178   noise: 0.012\n",
      "Iter 44/50 - Loss: -0.573   lengthscale: 0.178   noise: 0.010\n",
      "Iter 45/50 - Loss: -0.620   lengthscale: 0.177   noise: 0.009\n",
      "Iter 46/50 - Loss: -0.667   lengthscale: 0.175   noise: 0.008\n",
      "Iter 47/50 - Loss: -0.711   lengthscale: 0.174   noise: 0.007\n",
      "Iter 48/50 - Loss: -0.755   lengthscale: 0.173   noise: 0.006\n",
      "Iter 49/50 - Loss: -0.798   lengthscale: 0.173   noise: 0.006\n",
      "Iter 50/50 - Loss: -0.840   lengthscale: 0.174   noise: 0.005\n"
     ]
    }
   ],
   "source": [
    "GaussianProcess.train_gp(model, likelihood, train_x, train_y)"
   ]
  },
  {
   "cell_type": "code",
   "execution_count": 53,
   "metadata": {},
   "outputs": [
    {
     "data": {
      "image/png": "[encoded data removed]",
      "text/plain": [
       "<Figure size 288x216 with 1 Axes>"
      ]
     },
     "metadata": {},
     "output_type": "display_data"
    }
   ],
   "source": [
    "GaussianProcess.plot_gp(model, likelihood, train_x, train_y)"
   ]
  },
  {
   "cell_type": "code",
   "execution_count": null,
   "metadata": {},
   "outputs": [],
   "source": []
  }
 ],
 "metadata": {
  "kernelspec": {
   "display_name": "Python 3",
   "language": "python",
   "name": "python3"
  },
  "language_info": {
   "codemirror_mode": {
    "name": "ipython",
    "version": 3
   },
   "file_extension": ".py",
   "mimetype": "text/x-python",
   "name": "python",
   "nbconvert_exporter": "python",
   "pygments_lexer": "ipython3",
   "version": "3.6.5"
  }
 },
 "nbformat": 4,
 "nbformat_minor": 2
}
