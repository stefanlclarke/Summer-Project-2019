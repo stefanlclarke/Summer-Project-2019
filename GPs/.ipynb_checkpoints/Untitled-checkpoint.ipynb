{
 "cells": [
  {
   "cell_type": "code",
   "execution_count": 16,
   "metadata": {},
   "outputs": [
    {
     "name": "stdout",
     "output_type": "stream",
     "text": [
      "The autoreload extension is already loaded. To reload it, use:\n",
      "  %reload_ext autoreload\n"
     ]
    }
   ],
   "source": [
    "import math\n",
    "import torch\n",
    "import gpytorch\n",
    "from matplotlib import pyplot as plt\n",
    "\n",
    "%matplotlib inline\n",
    "%load_ext autoreload\n",
    "%autoreload 2\n",
    "%reload_ext autoreload\n",
    "\n",
    "# Training data is 11 points in [0,1] inclusive regularly spaced\n",
    "train_x = torch.linspace(0, 1, 100)\n",
    "# True function is sin(2*pi*x) with Gaussian noise\n",
    "train_y = torch.sin(train_x * (200 * math.pi)) + torch.randn(train_x.size()) * 0.2"
   ]
  },
  {
   "cell_type": "code",
   "execution_count": 17,
   "metadata": {},
   "outputs": [],
   "source": [
    "# We will use the simplest form of GP model, exact inference\n",
    "class ExactGPModel(gpytorch.models.ExactGP):\n",
    "    def __init__(self, train_x, train_y, likelihood):\n",
    "        super(ExactGPModel, self).__init__(train_x, train_y, likelihood)\n",
    "        self.mean_module = gpytorch.means.ConstantMean()\n",
    "        self.covar_module = gpytorch.kernels.ScaleKernel(gpytorch.kernels.RBFKernel())\n",
    "\n",
    "    def forward(self, x):\n",
    "        mean_x = self.mean_module(x)\n",
    "        covar_x = self.covar_module(x)\n",
    "        return gpytorch.distributions.MultivariateNormal(mean_x, covar_x)\n",
    "\n",
    "# initialize likelihood and model\n",
    "likelihood = gpytorch.likelihoods.GaussianLikelihood()\n",
    "model = ExactGPModel(train_x, train_y, likelihood)"
   ]
  },
  {
   "cell_type": "code",
   "execution_count": 18,
   "metadata": {},
   "outputs": [
    {
     "name": "stdout",
     "output_type": "stream",
     "text": [
      "Iter 1/50 - Loss: 0.942   lengthscale: 0.693   noise: 0.693\n",
      "Iter 2/50 - Loss: 0.910   lengthscale: 0.644   noise: 0.644\n",
      "Iter 3/50 - Loss: 0.876   lengthscale: 0.598   noise: 0.598\n",
      "Iter 4/50 - Loss: 0.838   lengthscale: 0.555   noise: 0.554\n",
      "Iter 5/50 - Loss: 0.795   lengthscale: 0.514   noise: 0.513\n",
      "Iter 6/50 - Loss: 0.746   lengthscale: 0.475   noise: 0.474\n",
      "Iter 7/50 - Loss: 0.694   lengthscale: 0.439   noise: 0.437\n",
      "Iter 8/50 - Loss: 0.642   lengthscale: 0.404   noise: 0.402\n",
      "Iter 9/50 - Loss: 0.591   lengthscale: 0.372   noise: 0.369\n",
      "Iter 10/50 - Loss: 0.545   lengthscale: 0.342   noise: 0.339\n",
      "Iter 11/50 - Loss: 0.504   lengthscale: 0.315   noise: 0.310\n",
      "Iter 12/50 - Loss: 0.466   lengthscale: 0.291   noise: 0.284\n",
      "Iter 13/50 - Loss: 0.430   lengthscale: 0.272   noise: 0.259\n",
      "Iter 14/50 - Loss: 0.395   lengthscale: 0.255   noise: 0.236\n",
      "Iter 15/50 - Loss: 0.361   lengthscale: 0.242   noise: 0.215\n",
      "Iter 16/50 - Loss: 0.327   lengthscale: 0.232   noise: 0.196\n",
      "Iter 17/50 - Loss: 0.294   lengthscale: 0.224   noise: 0.178\n",
      "Iter 18/50 - Loss: 0.261   lengthscale: 0.218   noise: 0.162\n",
      "Iter 19/50 - Loss: 0.228   lengthscale: 0.214   noise: 0.147\n",
      "Iter 20/50 - Loss: 0.196   lengthscale: 0.212   noise: 0.134\n",
      "Iter 21/50 - Loss: 0.165   lengthscale: 0.212   noise: 0.122\n",
      "Iter 22/50 - Loss: 0.134   lengthscale: 0.213   noise: 0.111\n",
      "Iter 23/50 - Loss: 0.104   lengthscale: 0.215   noise: 0.100\n",
      "Iter 24/50 - Loss: 0.076   lengthscale: 0.219   noise: 0.091\n",
      "Iter 25/50 - Loss: 0.049   lengthscale: 0.224   noise: 0.083\n",
      "Iter 26/50 - Loss: 0.024   lengthscale: 0.230   noise: 0.076\n",
      "Iter 27/50 - Loss: 0.002   lengthscale: 0.237   noise: 0.069\n",
      "Iter 28/50 - Loss: -0.018   lengthscale: 0.244   noise: 0.063\n",
      "Iter 29/50 - Loss: -0.036   lengthscale: 0.252   noise: 0.058\n",
      "Iter 30/50 - Loss: -0.050   lengthscale: 0.261   noise: 0.053\n",
      "Iter 31/50 - Loss: -0.060   lengthscale: 0.270   noise: 0.049\n",
      "Iter 32/50 - Loss: -0.068   lengthscale: 0.279   noise: 0.045\n",
      "Iter 33/50 - Loss: -0.073   lengthscale: 0.288   noise: 0.042\n",
      "Iter 34/50 - Loss: -0.074   lengthscale: 0.296   noise: 0.039\n",
      "Iter 35/50 - Loss: -0.074   lengthscale: 0.302   noise: 0.037\n",
      "Iter 36/50 - Loss: -0.071   lengthscale: 0.308   noise: 0.035\n",
      "Iter 37/50 - Loss: -0.067   lengthscale: 0.311   noise: 0.033\n",
      "Iter 38/50 - Loss: -0.064   lengthscale: 0.313   noise: 0.032\n",
      "Iter 39/50 - Loss: -0.060   lengthscale: 0.312   noise: 0.031\n",
      "Iter 40/50 - Loss: -0.057   lengthscale: 0.310   noise: 0.030\n",
      "Iter 41/50 - Loss: -0.055   lengthscale: 0.306   noise: 0.029\n",
      "Iter 42/50 - Loss: -0.054   lengthscale: 0.302   noise: 0.029\n",
      "Iter 43/50 - Loss: -0.053   lengthscale: 0.296   noise: 0.029\n",
      "Iter 44/50 - Loss: -0.054   lengthscale: 0.291   noise: 0.029\n",
      "Iter 45/50 - Loss: -0.055   lengthscale: 0.286   noise: 0.029\n",
      "Iter 46/50 - Loss: -0.057   lengthscale: 0.281   noise: 0.029\n",
      "Iter 47/50 - Loss: -0.059   lengthscale: 0.277   noise: 0.030\n",
      "Iter 48/50 - Loss: -0.061   lengthscale: 0.274   noise: 0.030\n",
      "Iter 49/50 - Loss: -0.064   lengthscale: 0.272   noise: 0.031\n",
      "Iter 50/50 - Loss: -0.066   lengthscale: 0.270   noise: 0.032\n"
     ]
    }
   ],
   "source": [
    "# Find optimal model hyperparameters\n",
    "model.train()\n",
    "likelihood.train()\n",
    "\n",
    "# Use the adam optimizer\n",
    "optimizer = torch.optim.Adam([\n",
    "    {'params': model.parameters()},  # Includes GaussianLikelihood parameters\n",
    "], lr=0.1)\n",
    "\n",
    "# \"Loss\" for GPs - the marginal log likelihood\n",
    "mll = gpytorch.mlls.ExactMarginalLogLikelihood(likelihood, model)\n",
    "\n",
    "training_iter = 50\n",
    "for i in range(training_iter):\n",
    "    # Zero gradients from previous iteration\n",
    "    optimizer.zero_grad()\n",
    "    # Output from model\n",
    "    output = model(train_x)\n",
    "    # Calc loss and backprop gradients\n",
    "    loss = -mll(output, train_y)\n",
    "    loss.backward()\n",
    "    print('Iter %d/%d - Loss: %.3f   lengthscale: %.3f   noise: %.3f' % (\n",
    "        i + 1, training_iter, loss.item(),\n",
    "        model.covar_module.base_kernel.lengthscale.item(),\n",
    "        model.likelihood.noise.item()\n",
    "    ))\n",
    "    optimizer.step()"
   ]
  },
  {
   "cell_type": "code",
   "execution_count": 19,
   "metadata": {},
   "outputs": [],
   "source": [
    "# Get into evaluation (predictive posterior) mode\n",
    "model.eval()\n",
    "likelihood.eval()\n",
    "\n",
    "# Test points are regularly spaced along [0,1]\n",
    "# Make predictions by feeding model through likelihood\n",
    "with torch.no_grad(), gpytorch.settings.fast_pred_var():\n",
    "    test_x = torch.linspace(0, 1, 51)\n",
    "    observed_pred = likelihood(model(test_x))"
   ]
  },
  {
   "cell_type": "code",
   "execution_count": 20,
   "metadata": {},
   "outputs": [
    {
     "data": {
      "image/png": "[encoded data removed]",
      "text/plain": [
       "<Figure size 288x216 with 1 Axes>"
      ]
     },
     "metadata": {},
     "output_type": "display_data"
    }
   ],
   "source": [
    "with torch.no_grad():\n",
    "    # Initialize plot\n",
    "    f, ax = plt.subplots(1, 1, figsize=(4, 3))\n",
    "\n",
    "    # Get upper and lower confidence bounds\n",
    "    lower, upper = observed_pred.confidence_region()\n",
    "    # Plot training data as black stars\n",
    "    ax.plot(train_x.numpy(), train_y.numpy(), 'k*')\n",
    "    # Plot predictive means as blue line\n",
    "    ax.plot(test_x.numpy(), observed_pred.mean.numpy(), 'b')\n",
    "    # Shade between the lower and upper confidence bounds\n",
    "    ax.fill_between(test_x.numpy(), lower.numpy(), upper.numpy(), alpha=0.5)\n",
    "    ax.set_ylim([-3, 3])\n",
    "    ax.legend(['Observed Data', 'Mean', 'Confidence'])"
   ]
  },
  {
   "cell_type": "code",
   "execution_count": null,
   "metadata": {},
   "outputs": [],
   "source": []
  },
  {
   "cell_type": "code",
   "execution_count": null,
   "metadata": {},
   "outputs": [],
   "source": []
  }
 ],
 "metadata": {
  "kernelspec": {
   "display_name": "Python 3",
   "language": "python",
   "name": "python3"
  },
  "language_info": {
   "codemirror_mode": {
    "name": "ipython",
    "version": 3
   },
   "file_extension": ".py",
   "mimetype": "text/x-python",
   "name": "python",
   "nbconvert_exporter": "python",
   "pygments_lexer": "ipython3",
   "version": "3.6.5"
  }
 },
 "nbformat": 4,
 "nbformat_minor": 2
}
